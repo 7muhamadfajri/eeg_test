{
 "cells": [
  {
   "cell_type": "code",
   "execution_count": 1,
   "metadata": {
    "executionInfo": {
     "elapsed": 1100,
     "status": "ok",
     "timestamp": 1628177143527,
     "user": {
      "displayName": "Efy Yosrita",
      "photoUrl": "",
      "userId": "09854207285420020525"
     },
     "user_tz": -420
    },
    "id": "ie22Plxhrjgf"
   },
   "outputs": [],
   "source": [
    "import numpy as np\n",
    "import pandas as pd\n",
    "from sklearn.pipeline import Pipeline\n",
    "from sklearn.model_selection import train_test_split, GridSearchCV\n",
    "from sklearn.svm import SVC\n",
    "from sklearn.metrics import accuracy_score,confusion_matrix, classification_report\n",
    "import matplotlib.pyplot as plt\n",
    "import seaborn as sns\n",
    "from google.colab import drive\n",
    "from sklearn.metrics import precision_score\n",
    "from sklearn.metrics import accuracy_score\n",
    "from sklearn.metrics import recall_score\n",
    "from sklearn.metrics import f1_score\n",
    "from numpy.random import RandomState"
   ]
  },
  {
   "cell_type": "code",
   "execution_count": 2,
   "metadata": {
    "colab": {
     "base_uri": "https://localhost:8080/",
     "height": 324
    },
    "executionInfo": {
     "elapsed": 29694,
     "status": "ok",
     "timestamp": 1628177177434,
     "user": {
      "displayName": "Efy Yosrita",
      "photoUrl": "",
      "userId": "09854207285420020525"
     },
     "user_tz": -420
    },
    "id": "LlVdi-UCrsbN",
    "outputId": "2d1ffb26-0e8d-4ed0-8230-25af9a5fa48e"
   },
   "outputs": [
    {
     "name": "stdout",
     "output_type": "stream",
     "text": [
      "Mounted at /content/drive\n"
     ]
    },
    {
     "data": {
      "text/html": [
       "<div>\n",
       "<style scoped>\n",
       "    .dataframe tbody tr th:only-of-type {\n",
       "        vertical-align: middle;\n",
       "    }\n",
       "\n",
       "    .dataframe tbody tr th {\n",
       "        vertical-align: top;\n",
       "    }\n",
       "\n",
       "    .dataframe thead th {\n",
       "        text-align: right;\n",
       "    }\n",
       "</style>\n",
       "<table border=\"1\" class=\"dataframe\">\n",
       "  <thead>\n",
       "    <tr style=\"text-align: right;\">\n",
       "      <th></th>\n",
       "      <th>SUBJEK</th>\n",
       "      <th>KATA</th>\n",
       "      <th>LABEL</th>\n",
       "      <th>AF3_THETA</th>\n",
       "      <th>AF3_ALPHA</th>\n",
       "      <th>AF3_LOW_BETA</th>\n",
       "      <th>AF3_HIGH_BETA</th>\n",
       "      <th>AF3_GAMMA</th>\n",
       "      <th>F7_THETA</th>\n",
       "      <th>F7_ALPHA</th>\n",
       "      <th>F7_LOW_BETA</th>\n",
       "      <th>F7_HIGH_BETA</th>\n",
       "      <th>F7_GAMMA</th>\n",
       "      <th>F3_THETA</th>\n",
       "      <th>F3_ALPHA</th>\n",
       "      <th>F3_LOW_BETA</th>\n",
       "      <th>F3_HIGH_BETA</th>\n",
       "      <th>F3_GAMMA</th>\n",
       "      <th>FC5_THETA</th>\n",
       "      <th>FC5_ALPHA</th>\n",
       "      <th>FC5_LOW_BETA</th>\n",
       "      <th>FC5_HIGH_BETA</th>\n",
       "      <th>FC5_GAMMA</th>\n",
       "      <th>T7_THETA</th>\n",
       "      <th>T7_ALPHA</th>\n",
       "      <th>T7_LOW_BETA</th>\n",
       "      <th>T7_HIGH_BETA</th>\n",
       "      <th>T7_GAMMA</th>\n",
       "      <th>P7_THETA</th>\n",
       "      <th>P7_ALPHA</th>\n",
       "      <th>P7_LOW_BETA</th>\n",
       "      <th>P7_HIGH_BETA</th>\n",
       "      <th>P7_GAMMA</th>\n",
       "      <th>O1_THETA</th>\n",
       "      <th>O1_ALPHA</th>\n",
       "      <th>O1_LOW_BETA</th>\n",
       "      <th>O1_HIGH_BETA</th>\n",
       "      <th>O1_GAMMA</th>\n",
       "      <th>O2_THETA</th>\n",
       "      <th>O2_ALPHA</th>\n",
       "      <th>O2_LOW_BETA</th>\n",
       "      <th>O2_HIGH_BETA</th>\n",
       "      <th>O2_GAMMA</th>\n",
       "      <th>P8_THETA</th>\n",
       "      <th>P8_ALPHA</th>\n",
       "      <th>P8_LOW_BETA</th>\n",
       "      <th>P8_HIGH_BETA</th>\n",
       "      <th>P8_GAMMA</th>\n",
       "      <th>T8_THETA</th>\n",
       "      <th>T8_ALPHA</th>\n",
       "      <th>T8_LOW_BETA</th>\n",
       "      <th>T8_HIGH_BETA</th>\n",
       "      <th>T8_GAMMA</th>\n",
       "      <th>FC6_THETA</th>\n",
       "      <th>FC6_ALPHA</th>\n",
       "      <th>FC6_LOW_BETA</th>\n",
       "      <th>FC6_HIGH_BETA</th>\n",
       "      <th>FC6_GAMMA</th>\n",
       "      <th>F4_THETA</th>\n",
       "      <th>F4_ALPHA</th>\n",
       "      <th>F4_LOW_BETA</th>\n",
       "      <th>F4_HIGH_BETA</th>\n",
       "      <th>F4_GAMMA</th>\n",
       "      <th>F8_THETA</th>\n",
       "      <th>F8_ALPHA</th>\n",
       "      <th>F8_LOW_BETA</th>\n",
       "      <th>F8_HIGH_BETA</th>\n",
       "      <th>F8_GAMMA</th>\n",
       "      <th>AF4_THETA</th>\n",
       "      <th>AF4_ALPHA</th>\n",
       "      <th>AF4_LOW_BETA</th>\n",
       "      <th>AF4_HIGH_BETA</th>\n",
       "      <th>AF4_GAMMA</th>\n",
       "    </tr>\n",
       "  </thead>\n",
       "  <tbody>\n",
       "    <tr>\n",
       "      <th>0</th>\n",
       "      <td>S01-1Aj</td>\n",
       "      <td>MAKAN</td>\n",
       "      <td>2</td>\n",
       "      <td>4.464708</td>\n",
       "      <td>1.795277</td>\n",
       "      <td>0.778195</td>\n",
       "      <td>6.278142</td>\n",
       "      <td>0.948076</td>\n",
       "      <td>2.599018</td>\n",
       "      <td>1.176150</td>\n",
       "      <td>0.445877</td>\n",
       "      <td>3.114377</td>\n",
       "      <td>0.660038</td>\n",
       "      <td>5.167149</td>\n",
       "      <td>3.051822</td>\n",
       "      <td>1.761174</td>\n",
       "      <td>6.589579</td>\n",
       "      <td>1.859859</td>\n",
       "      <td>4.290996</td>\n",
       "      <td>2.631142</td>\n",
       "      <td>0.715426</td>\n",
       "      <td>3.757160</td>\n",
       "      <td>0.955828</td>\n",
       "      <td>0.012877</td>\n",
       "      <td>0.034104</td>\n",
       "      <td>0.036523</td>\n",
       "      <td>0.012597</td>\n",
       "      <td>0.023914</td>\n",
       "      <td>1.509501</td>\n",
       "      <td>0.922565</td>\n",
       "      <td>0.344637</td>\n",
       "      <td>0.635072</td>\n",
       "      <td>0.272662</td>\n",
       "      <td>1.368865</td>\n",
       "      <td>0.950213</td>\n",
       "      <td>0.453015</td>\n",
       "      <td>0.911978</td>\n",
       "      <td>0.256057</td>\n",
       "      <td>4.410742</td>\n",
       "      <td>1.443361</td>\n",
       "      <td>0.728903</td>\n",
       "      <td>1.563281</td>\n",
       "      <td>0.398380</td>\n",
       "      <td>4.490590</td>\n",
       "      <td>1.051378</td>\n",
       "      <td>0.574227</td>\n",
       "      <td>1.287267</td>\n",
       "      <td>0.308411</td>\n",
       "      <td>0.002624</td>\n",
       "      <td>0.010167</td>\n",
       "      <td>0.013034</td>\n",
       "      <td>0.005055</td>\n",
       "      <td>0.008109</td>\n",
       "      <td>4.512257</td>\n",
       "      <td>1.915953</td>\n",
       "      <td>0.518269</td>\n",
       "      <td>1.482260</td>\n",
       "      <td>0.496776</td>\n",
       "      <td>4.654989</td>\n",
       "      <td>2.226291</td>\n",
       "      <td>0.567761</td>\n",
       "      <td>2.902431</td>\n",
       "      <td>1.939809</td>\n",
       "      <td>10.728572</td>\n",
       "      <td>1.997409</td>\n",
       "      <td>0.928194</td>\n",
       "      <td>0.753753</td>\n",
       "      <td>0.375547</td>\n",
       "      <td>6.782176</td>\n",
       "      <td>1.866855</td>\n",
       "      <td>0.781449</td>\n",
       "      <td>1.916544</td>\n",
       "      <td>1.522779</td>\n",
       "    </tr>\n",
       "    <tr>\n",
       "      <th>1</th>\n",
       "      <td>S01-1Aj</td>\n",
       "      <td>MAKAN</td>\n",
       "      <td>2</td>\n",
       "      <td>3.033470</td>\n",
       "      <td>2.028336</td>\n",
       "      <td>0.933330</td>\n",
       "      <td>6.659462</td>\n",
       "      <td>0.916482</td>\n",
       "      <td>1.824260</td>\n",
       "      <td>1.254074</td>\n",
       "      <td>0.634456</td>\n",
       "      <td>3.700502</td>\n",
       "      <td>0.653975</td>\n",
       "      <td>5.538662</td>\n",
       "      <td>3.238735</td>\n",
       "      <td>2.435359</td>\n",
       "      <td>6.968209</td>\n",
       "      <td>1.753316</td>\n",
       "      <td>4.506341</td>\n",
       "      <td>3.073260</td>\n",
       "      <td>1.025906</td>\n",
       "      <td>4.304115</td>\n",
       "      <td>0.917922</td>\n",
       "      <td>0.011375</td>\n",
       "      <td>0.036680</td>\n",
       "      <td>0.036192</td>\n",
       "      <td>0.009940</td>\n",
       "      <td>0.029393</td>\n",
       "      <td>1.051738</td>\n",
       "      <td>0.734631</td>\n",
       "      <td>0.372054</td>\n",
       "      <td>0.572427</td>\n",
       "      <td>0.289641</td>\n",
       "      <td>0.933181</td>\n",
       "      <td>0.759275</td>\n",
       "      <td>0.475942</td>\n",
       "      <td>0.859257</td>\n",
       "      <td>0.269846</td>\n",
       "      <td>4.153225</td>\n",
       "      <td>1.333462</td>\n",
       "      <td>0.840744</td>\n",
       "      <td>1.554679</td>\n",
       "      <td>0.408189</td>\n",
       "      <td>4.988484</td>\n",
       "      <td>1.029724</td>\n",
       "      <td>0.726442</td>\n",
       "      <td>1.208350</td>\n",
       "      <td>0.312911</td>\n",
       "      <td>0.002890</td>\n",
       "      <td>0.012621</td>\n",
       "      <td>0.016462</td>\n",
       "      <td>0.006229</td>\n",
       "      <td>0.009084</td>\n",
       "      <td>4.496732</td>\n",
       "      <td>2.227153</td>\n",
       "      <td>0.687470</td>\n",
       "      <td>1.400296</td>\n",
       "      <td>0.434498</td>\n",
       "      <td>5.031673</td>\n",
       "      <td>2.499861</td>\n",
       "      <td>0.671697</td>\n",
       "      <td>2.605301</td>\n",
       "      <td>1.712137</td>\n",
       "      <td>10.334194</td>\n",
       "      <td>2.218516</td>\n",
       "      <td>1.273915</td>\n",
       "      <td>0.610819</td>\n",
       "      <td>0.342051</td>\n",
       "      <td>5.532071</td>\n",
       "      <td>2.337674</td>\n",
       "      <td>1.011535</td>\n",
       "      <td>1.609977</td>\n",
       "      <td>1.325849</td>\n",
       "    </tr>\n",
       "    <tr>\n",
       "      <th>2</th>\n",
       "      <td>S01-1Aj</td>\n",
       "      <td>MAKAN</td>\n",
       "      <td>2</td>\n",
       "      <td>2.961815</td>\n",
       "      <td>2.302890</td>\n",
       "      <td>1.135897</td>\n",
       "      <td>6.473575</td>\n",
       "      <td>0.807020</td>\n",
       "      <td>1.451066</td>\n",
       "      <td>1.358118</td>\n",
       "      <td>0.883208</td>\n",
       "      <td>3.897205</td>\n",
       "      <td>0.589395</td>\n",
       "      <td>6.492306</td>\n",
       "      <td>3.368357</td>\n",
       "      <td>2.986723</td>\n",
       "      <td>6.769273</td>\n",
       "      <td>1.467760</td>\n",
       "      <td>5.167661</td>\n",
       "      <td>3.370718</td>\n",
       "      <td>1.350172</td>\n",
       "      <td>4.417591</td>\n",
       "      <td>0.792511</td>\n",
       "      <td>0.010858</td>\n",
       "      <td>0.038574</td>\n",
       "      <td>0.033440</td>\n",
       "      <td>0.008001</td>\n",
       "      <td>0.035128</td>\n",
       "      <td>0.736357</td>\n",
       "      <td>0.682544</td>\n",
       "      <td>0.426366</td>\n",
       "      <td>0.513113</td>\n",
       "      <td>0.301232</td>\n",
       "      <td>0.666059</td>\n",
       "      <td>0.623686</td>\n",
       "      <td>0.535990</td>\n",
       "      <td>0.804378</td>\n",
       "      <td>0.285781</td>\n",
       "      <td>4.082249</td>\n",
       "      <td>1.222608</td>\n",
       "      <td>1.052023</td>\n",
       "      <td>1.562331</td>\n",
       "      <td>0.431437</td>\n",
       "      <td>5.403524</td>\n",
       "      <td>1.004236</td>\n",
       "      <td>0.953526</td>\n",
       "      <td>1.123133</td>\n",
       "      <td>0.330900</td>\n",
       "      <td>0.002866</td>\n",
       "      <td>0.015788</td>\n",
       "      <td>0.019660</td>\n",
       "      <td>0.007645</td>\n",
       "      <td>0.010138</td>\n",
       "      <td>4.672633</td>\n",
       "      <td>2.611035</td>\n",
       "      <td>0.941095</td>\n",
       "      <td>1.397395</td>\n",
       "      <td>0.387034</td>\n",
       "      <td>5.627406</td>\n",
       "      <td>2.866307</td>\n",
       "      <td>0.820381</td>\n",
       "      <td>2.410364</td>\n",
       "      <td>1.398880</td>\n",
       "      <td>9.680595</td>\n",
       "      <td>2.545743</td>\n",
       "      <td>1.700698</td>\n",
       "      <td>0.568555</td>\n",
       "      <td>0.318679</td>\n",
       "      <td>5.906456</td>\n",
       "      <td>2.803738</td>\n",
       "      <td>1.313641</td>\n",
       "      <td>1.412653</td>\n",
       "      <td>1.070558</td>\n",
       "    </tr>\n",
       "    <tr>\n",
       "      <th>3</th>\n",
       "      <td>S01-1Aj</td>\n",
       "      <td>MAKAN</td>\n",
       "      <td>2</td>\n",
       "      <td>3.797894</td>\n",
       "      <td>2.702664</td>\n",
       "      <td>1.314570</td>\n",
       "      <td>5.688627</td>\n",
       "      <td>0.661334</td>\n",
       "      <td>1.454463</td>\n",
       "      <td>1.463701</td>\n",
       "      <td>1.114877</td>\n",
       "      <td>3.656171</td>\n",
       "      <td>0.492973</td>\n",
       "      <td>7.942379</td>\n",
       "      <td>3.333857</td>\n",
       "      <td>3.219070</td>\n",
       "      <td>6.026298</td>\n",
       "      <td>1.093270</td>\n",
       "      <td>6.008296</td>\n",
       "      <td>3.399372</td>\n",
       "      <td>1.560908</td>\n",
       "      <td>4.041981</td>\n",
       "      <td>0.622929</td>\n",
       "      <td>0.011858</td>\n",
       "      <td>0.038357</td>\n",
       "      <td>0.029122</td>\n",
       "      <td>0.007670</td>\n",
       "      <td>0.039742</td>\n",
       "      <td>0.550913</td>\n",
       "      <td>0.741080</td>\n",
       "      <td>0.476391</td>\n",
       "      <td>0.471400</td>\n",
       "      <td>0.302296</td>\n",
       "      <td>0.584288</td>\n",
       "      <td>0.535190</td>\n",
       "      <td>0.591404</td>\n",
       "      <td>0.739472</td>\n",
       "      <td>0.298908</td>\n",
       "      <td>4.086728</td>\n",
       "      <td>1.125316</td>\n",
       "      <td>1.273637</td>\n",
       "      <td>1.578566</td>\n",
       "      <td>0.467418</td>\n",
       "      <td>5.493555</td>\n",
       "      <td>0.975270</td>\n",
       "      <td>1.171769</td>\n",
       "      <td>1.049675</td>\n",
       "      <td>0.358399</td>\n",
       "      <td>0.002692</td>\n",
       "      <td>0.018988</td>\n",
       "      <td>0.021374</td>\n",
       "      <td>0.008941</td>\n",
       "      <td>0.011126</td>\n",
       "      <td>4.914884</td>\n",
       "      <td>3.012234</td>\n",
       "      <td>1.213227</td>\n",
       "      <td>1.450315</td>\n",
       "      <td>0.363118</td>\n",
       "      <td>6.224400</td>\n",
       "      <td>3.277162</td>\n",
       "      <td>0.955123</td>\n",
       "      <td>2.279465</td>\n",
       "      <td>1.075046</td>\n",
       "      <td>8.828448</td>\n",
       "      <td>2.899751</td>\n",
       "      <td>2.081439</td>\n",
       "      <td>0.620827</td>\n",
       "      <td>0.305636</td>\n",
       "      <td>7.325518</td>\n",
       "      <td>3.417255</td>\n",
       "      <td>1.624153</td>\n",
       "      <td>1.305130</td>\n",
       "      <td>0.817961</td>\n",
       "    </tr>\n",
       "    <tr>\n",
       "      <th>4</th>\n",
       "      <td>S01-1Aj</td>\n",
       "      <td>MAKAN</td>\n",
       "      <td>2</td>\n",
       "      <td>6.828661</td>\n",
       "      <td>3.425307</td>\n",
       "      <td>1.405881</td>\n",
       "      <td>4.518988</td>\n",
       "      <td>0.532399</td>\n",
       "      <td>1.986457</td>\n",
       "      <td>1.560375</td>\n",
       "      <td>1.256536</td>\n",
       "      <td>3.083162</td>\n",
       "      <td>0.399604</td>\n",
       "      <td>9.777117</td>\n",
       "      <td>3.127272</td>\n",
       "      <td>3.053104</td>\n",
       "      <td>5.008856</td>\n",
       "      <td>0.742028</td>\n",
       "      <td>7.066042</td>\n",
       "      <td>3.124783</td>\n",
       "      <td>1.582716</td>\n",
       "      <td>3.303811</td>\n",
       "      <td>0.466748</td>\n",
       "      <td>0.014301</td>\n",
       "      <td>0.035146</td>\n",
       "      <td>0.024599</td>\n",
       "      <td>0.009478</td>\n",
       "      <td>0.041990</td>\n",
       "      <td>0.466763</td>\n",
       "      <td>0.840741</td>\n",
       "      <td>0.497857</td>\n",
       "      <td>0.451688</td>\n",
       "      <td>0.292492</td>\n",
       "      <td>0.645038</td>\n",
       "      <td>0.473205</td>\n",
       "      <td>0.614195</td>\n",
       "      <td>0.661571</td>\n",
       "      <td>0.305547</td>\n",
       "      <td>3.978190</td>\n",
       "      <td>1.041311</td>\n",
       "      <td>1.408485</td>\n",
       "      <td>1.585141</td>\n",
       "      <td>0.513325</td>\n",
       "      <td>5.092508</td>\n",
       "      <td>0.940067</td>\n",
       "      <td>1.301308</td>\n",
       "      <td>0.991446</td>\n",
       "      <td>0.390812</td>\n",
       "      <td>0.002711</td>\n",
       "      <td>0.021295</td>\n",
       "      <td>0.020858</td>\n",
       "      <td>0.009674</td>\n",
       "      <td>0.011876</td>\n",
       "      <td>5.154019</td>\n",
       "      <td>3.336075</td>\n",
       "      <td>1.430470</td>\n",
       "      <td>1.522812</td>\n",
       "      <td>0.361887</td>\n",
       "      <td>6.856253</td>\n",
       "      <td>3.650636</td>\n",
       "      <td>1.019399</td>\n",
       "      <td>2.191507</td>\n",
       "      <td>0.818509</td>\n",
       "      <td>8.196053</td>\n",
       "      <td>3.192119</td>\n",
       "      <td>2.291647</td>\n",
       "      <td>0.731953</td>\n",
       "      <td>0.302914</td>\n",
       "      <td>11.453557</td>\n",
       "      <td>4.499370</td>\n",
       "      <td>1.867601</td>\n",
       "      <td>1.266913</td>\n",
       "      <td>0.623921</td>\n",
       "    </tr>\n",
       "  </tbody>\n",
       "</table>\n",
       "</div>"
      ],
      "text/plain": [
       "    SUBJEK   KATA  LABEL  ...  AF4_LOW_BETA  AF4_HIGH_BETA  AF4_GAMMA\n",
       "0  S01-1Aj  MAKAN      2  ...      0.781449       1.916544   1.522779\n",
       "1  S01-1Aj  MAKAN      2  ...      1.011535       1.609977   1.325849\n",
       "2  S01-1Aj  MAKAN      2  ...      1.313641       1.412653   1.070558\n",
       "3  S01-1Aj  MAKAN      2  ...      1.624153       1.305130   0.817961\n",
       "4  S01-1Aj  MAKAN      2  ...      1.867601       1.266913   0.623921\n",
       "\n",
       "[5 rows x 73 columns]"
      ]
     },
     "execution_count": 2,
     "metadata": {
      "tags": []
     },
     "output_type": "execute_result"
    }
   ],
   "source": [
    "drive.mount('/content/drive')\n",
    "df = pd.read_csv(\"/content/drive/MyDrive/SVM-COLABS/All-baca-7040x73.csv\", error_bad_lines=False)\n",
    "df.head()\n",
    "#test = pd.read_csv(\"/content/drive/MyDrive/SVM-COLABS/All-baca-7040x73.csv\", error_bad_lines=False)\n",
    "#test.head()"
   ]
  },
  {
   "cell_type": "code",
   "execution_count": 3,
   "metadata": {
    "colab": {
     "base_uri": "https://localhost:8080/"
    },
    "executionInfo": {
     "elapsed": 621,
     "status": "ok",
     "timestamp": 1628177188804,
     "user": {
      "displayName": "Efy Yosrita",
      "photoUrl": "",
      "userId": "09854207285420020525"
     },
     "user_tz": -420
    },
    "id": "OI0uBw9jrjgj",
    "outputId": "e26d9d0e-aabb-4829-9afd-b203e93f346b"
   },
   "outputs": [
    {
     "data": {
      "text/plain": [
       "Index(['SUBJEK', 'KATA', 'LABEL', 'AF3_THETA', 'AF3_ALPHA', 'AF3_LOW_BETA',\n",
       "       'AF3_HIGH_BETA', 'AF3_GAMMA', 'F7_THETA', 'F7_ALPHA', 'F7_LOW_BETA',\n",
       "       'F7_HIGH_BETA', 'F7_GAMMA', 'F3_THETA', 'F3_ALPHA', 'F3_LOW_BETA',\n",
       "       'F3_HIGH_BETA', 'F3_GAMMA', 'FC5_THETA', 'FC5_ALPHA', 'FC5_LOW_BETA',\n",
       "       'FC5_HIGH_BETA', 'FC5_GAMMA', 'T7_THETA', 'T7_ALPHA', 'T7_LOW_BETA',\n",
       "       'T7_HIGH_BETA', 'T7_GAMMA', 'P7_THETA', 'P7_ALPHA', 'P7_LOW_BETA',\n",
       "       'P7_HIGH_BETA', 'P7_GAMMA', 'O1_THETA', 'O1_ALPHA', 'O1_LOW_BETA',\n",
       "       'O1_HIGH_BETA', 'O1_GAMMA', 'O2_THETA', 'O2_ALPHA', 'O2_LOW_BETA',\n",
       "       'O2_HIGH_BETA', 'O2_GAMMA', 'P8_THETA', 'P8_ALPHA', 'P8_LOW_BETA',\n",
       "       'P8_HIGH_BETA', 'P8_GAMMA', 'T8_THETA', 'T8_ALPHA', 'T8_LOW_BETA',\n",
       "       'T8_HIGH_BETA', 'T8_GAMMA', 'FC6_THETA', 'FC6_ALPHA', 'FC6_LOW_BETA',\n",
       "       'FC6_HIGH_BETA', 'FC6_GAMMA', 'F4_THETA', 'F4_ALPHA', 'F4_LOW_BETA',\n",
       "       'F4_HIGH_BETA', 'F4_GAMMA', 'F8_THETA', 'F8_ALPHA', 'F8_LOW_BETA',\n",
       "       'F8_HIGH_BETA', 'F8_GAMMA', 'AF4_THETA', 'AF4_ALPHA', 'AF4_LOW_BETA',\n",
       "       'AF4_HIGH_BETA', 'AF4_GAMMA'],\n",
       "      dtype='object')"
      ]
     },
     "execution_count": 3,
     "metadata": {
      "tags": []
     },
     "output_type": "execute_result"
    }
   ],
   "source": [
    "df.columns"
   ]
  },
  {
   "cell_type": "code",
   "execution_count": 4,
   "metadata": {
    "colab": {
     "base_uri": "https://localhost:8080/",
     "height": 326
    },
    "executionInfo": {
     "elapsed": 362,
     "status": "ok",
     "timestamp": 1628177193340,
     "user": {
      "displayName": "Efy Yosrita",
      "photoUrl": "",
      "userId": "09854207285420020525"
     },
     "user_tz": -420
    },
    "id": "G2qG_D7LKlCm",
    "outputId": "7498e19f-ccd9-47f9-e597-94f37191bb77"
   },
   "outputs": [
    {
     "data": {
      "text/html": [
       "<div>\n",
       "<style scoped>\n",
       "    .dataframe tbody tr th:only-of-type {\n",
       "        vertical-align: middle;\n",
       "    }\n",
       "\n",
       "    .dataframe tbody tr th {\n",
       "        vertical-align: top;\n",
       "    }\n",
       "\n",
       "    .dataframe thead th {\n",
       "        text-align: right;\n",
       "    }\n",
       "</style>\n",
       "<table border=\"1\" class=\"dataframe\">\n",
       "  <thead>\n",
       "    <tr style=\"text-align: right;\">\n",
       "      <th>col_0</th>\n",
       "      <th>count</th>\n",
       "    </tr>\n",
       "    <tr>\n",
       "      <th>KATA</th>\n",
       "      <th></th>\n",
       "    </tr>\n",
       "  </thead>\n",
       "  <tbody>\n",
       "    <tr>\n",
       "      <th>HAUS</th>\n",
       "      <td>880</td>\n",
       "    </tr>\n",
       "    <tr>\n",
       "      <th>LAPAR</th>\n",
       "      <td>880</td>\n",
       "    </tr>\n",
       "    <tr>\n",
       "      <th>MAKAN</th>\n",
       "      <td>880</td>\n",
       "    </tr>\n",
       "    <tr>\n",
       "      <th>MINUM</th>\n",
       "      <td>880</td>\n",
       "    </tr>\n",
       "    <tr>\n",
       "      <th>SAKIT</th>\n",
       "      <td>880</td>\n",
       "    </tr>\n",
       "    <tr>\n",
       "      <th>SEDIH</th>\n",
       "      <td>880</td>\n",
       "    </tr>\n",
       "    <tr>\n",
       "      <th>SENANG</th>\n",
       "      <td>880</td>\n",
       "    </tr>\n",
       "    <tr>\n",
       "      <th>TOILET</th>\n",
       "      <td>880</td>\n",
       "    </tr>\n",
       "  </tbody>\n",
       "</table>\n",
       "</div>"
      ],
      "text/plain": [
       "col_0   count\n",
       "KATA         \n",
       "HAUS      880\n",
       "LAPAR     880\n",
       "MAKAN     880\n",
       "MINUM     880\n",
       "SAKIT     880\n",
       "SEDIH     880\n",
       "SENANG    880\n",
       "TOILET    880"
      ]
     },
     "execution_count": 4,
     "metadata": {
      "tags": []
     },
     "output_type": "execute_result"
    }
   ],
   "source": [
    "#Frequency distribution of classes\"\n",
    "train_outcome = pd.crosstab(index=df['KATA'],  # Make a crosstab\n",
    "                              columns=\"count\")      # Name the count column\n",
    "\n",
    "train_outcome"
   ]
  },
  {
   "cell_type": "code",
   "execution_count": 5,
   "metadata": {
    "colab": {
     "base_uri": "https://localhost:8080/",
     "height": 374
    },
    "executionInfo": {
     "elapsed": 589,
     "status": "ok",
     "timestamp": 1628177198462,
     "user": {
      "displayName": "Efy Yosrita",
      "photoUrl": "",
      "userId": "09854207285420020525"
     },
     "user_tz": -420
    },
    "id": "ymMDUOkiK3o6",
    "outputId": "37f8073d-f3b0-4dba-9b04-ae8031910d42"
   },
   "outputs": [
    {
     "data": {
      "image/png": "[encoded data removed]",
      "text/plain": [
       "<Figure size 1008x432 with 1 Axes>"
      ]
     },
     "metadata": {
      "needs_background": "light",
      "tags": []
     },
     "output_type": "display_data"
    }
   ],
   "source": [
    "temp = df['KATA'].value_counts()\n",
    "df = pd.DataFrame({'labels': temp.index,\n",
    "                   'values': temp.values})\n",
    "\n",
    "\n",
    "labels = df['labels']\n",
    "sizes = df['values']\n",
    "\n",
    "x_pos = [i for i, _ in enumerate(labels)]\n",
    "\n",
    "plt.figure(1, [14, 6])\n",
    "plt.bar(x_pos, sizes,width=0.6)\n",
    "plt.xticks(x_pos, labels)\n",
    "plt.show()"
   ]
  },
  {
   "cell_type": "markdown",
   "metadata": {
    "id": "jLGuCZOFRB9J"
   },
   "source": [
    "Data Splitting"
   ]
  },
  {
   "cell_type": "code",
   "execution_count": 6,
   "metadata": {
    "executionInfo": {
     "elapsed": 383,
     "status": "ok",
     "timestamp": 1628177206501,
     "user": {
      "displayName": "Efy Yosrita",
      "photoUrl": "",
      "userId": "09854207285420020525"
     },
     "user_tz": -420
    },
    "id": "x-XXAjWPRFRJ"
   },
   "outputs": [],
   "source": [
    "rng = RandomState()\n",
    "df = pd.read_csv(\"/content/drive/MyDrive/SVM-COLABS/All-baca-7040x73.csv\", error_bad_lines=False)\n",
    "train = df.sample(frac=0.7, random_state=rng)\n",
    "test = df.loc[~df.index.isin(train.index)]"
   ]
  },
  {
   "cell_type": "markdown",
   "metadata": {
    "id": "gH7XncArLcmH"
   },
   "source": [
    "Normalize the Predictor(Feature Set) for SVM training"
   ]
  },
  {
   "cell_type": "code",
   "execution_count": 7,
   "metadata": {
    "colab": {
     "base_uri": "https://localhost:8080/"
    },
    "executionInfo": {
     "elapsed": 631,
     "status": "ok",
     "timestamp": 1628177214586,
     "user": {
      "displayName": "Efy Yosrita",
      "photoUrl": "",
      "userId": "09854207285420020525"
     },
     "user_tz": -420
    },
    "id": "RfioEe_nLfAi",
    "outputId": "9acadb4d-ffa9-4427-e00c-1bbf38c04908"
   },
   "outputs": [
    {
     "name": "stdout",
     "output_type": "stream",
     "text": [
      "Dimension of Train set (4928, 70)\n",
      "Dimension of Test set (2112, 70) \n",
      "\n",
      "Number of numeric features: 70\n"
     ]
    }
   ],
   "source": [
    "# Seperating Predictors and Outcome values from train and test sets\n",
    "X_train = pd.DataFrame(train.drop(['SUBJEK','KATA','LABEL'],axis=1))\n",
    "Y_train_label = train.LABEL.values.astype(object)\n",
    "\n",
    "X_test = pd.DataFrame(test.drop(['SUBJEK','KATA','LABEL'],axis=1))\n",
    "Y_test_label = test.LABEL.values.astype(object)\n",
    "\n",
    "# Dimension of Train and Test set \n",
    "print(\"Dimension of Train set\",X_train.shape)\n",
    "print(\"Dimension of Test set\",X_test.shape,\"\\n\")\n",
    "\n",
    "# Transforming non numerical labels into numerical labels\n",
    "from sklearn import preprocessing\n",
    "encoder = preprocessing.LabelEncoder()\n",
    "\n",
    "# encoding train labels \n",
    "encoder.fit(Y_train_label)\n",
    "Y_train = encoder.transform(Y_train_label)\n",
    "\n",
    "# encoding test labels \n",
    "encoder.fit(Y_test_label)\n",
    "Y_test = encoder.transform(Y_test_label)\n",
    "\n",
    "#Total Number of Continous and Categorical features in the training set\n",
    "num_cols = X_train._get_numeric_data().columns\n",
    "print(\"Number of numeric features:\",num_cols.size)\n",
    "#list(set(X_train.columns) - set(num_cols))\n",
    "\n",
    "\n",
    "names_of_predictors = list(X_train.columns.values)\n"
   ]
  },
  {
   "cell_type": "markdown",
   "metadata": {
    "id": "20FSxh_ZP06R"
   },
   "source": [
    "Hyperparameter tuning using grid search and cross validation"
   ]
  },
  {
   "cell_type": "code",
   "execution_count": 8,
   "metadata": {
    "colab": {
     "base_uri": "https://localhost:8080/",
     "height": 69
    },
    "executionInfo": {
     "elapsed": 456,
     "status": "ok",
     "timestamp": 1628177222493,
     "user": {
      "displayName": "Efy Yosrita",
      "photoUrl": "",
      "userId": "09854207285420020525"
     },
     "user_tz": -420
    },
    "id": "R0xCNAoGNFdq",
    "outputId": "592148a8-bc15-42f9-82a3-c3247e9e3aa1"
   },
   "outputs": [
    {
     "data": {
      "application/vnd.google.colaboratory.intrinsic+json": {
       "type": "string"
      },
      "text/plain": [
       "\"\\n#Libraries to Build Ensemble Model : Random Forest Classifier \\n# Create the parameter grid based on the results of random search \\nparams_grid = [{'kernel': ['rbf'], 'gamma': [1e-1, 1e-2, 1e-3, 1e-4],'C': [1, 10, 100, 1000]}]#,\\n               #{'kernel': ['linear'], 'C': [1, 10, 100, 1000]},\\n               #[{'kernel': ['poly'],'gamma': [1e-1, 1e-2, 1e-3, 1e-4], 'degree' : [3, 4, 5, 6], 'C': [1, 10, 100, 1000]}]#,\\n              #{'kernel': ['sigmoid'],'gamma': [1e-1, 1e-2, 1e-3, 1e-4], 'C': [1, 10, 100, 1000]}]\\n\""
      ]
     },
     "execution_count": 8,
     "metadata": {
      "tags": []
     },
     "output_type": "execute_result"
    }
   ],
   "source": [
    "'''\n",
    "#Libraries to Build Ensemble Model : Random Forest Classifier \n",
    "# Create the parameter grid based on the results of random search \n",
    "params_grid = [{'kernel': ['rbf'], 'gamma': [1e-1, 1e-2, 1e-3, 1e-4],'C': [1, 10, 100, 1000]}]#,\n",
    "               #{'kernel': ['linear'], 'C': [1, 10, 100, 1000]},\n",
    "               #[{'kernel': ['poly'],'gamma': [1e-1, 1e-2, 1e-3, 1e-4], 'degree' : [3, 4, 5, 6], 'C': [1, 10, 100, 1000]}]#,\n",
    "              #{'kernel': ['sigmoid'],'gamma': [1e-1, 1e-2, 1e-3, 1e-4], 'C': [1, 10, 100, 1000]}]\n",
    "'''"
   ]
  },
  {
   "cell_type": "markdown",
   "metadata": {
    "id": "1eX2wEh7PwzU"
   },
   "source": [
    "Training SVM model using radial kernel"
   ]
  },
  {
   "cell_type": "code",
   "execution_count": 9,
   "metadata": {
    "colab": {
     "base_uri": "https://localhost:8080/",
     "height": 35
    },
    "executionInfo": {
     "elapsed": 618,
     "status": "ok",
     "timestamp": 1628177230174,
     "user": {
      "displayName": "Efy Yosrita",
      "photoUrl": "",
      "userId": "09854207285420020525"
     },
     "user_tz": -420
    },
    "id": "3c_SYvIdNVK6",
    "outputId": "3895d475-8a2d-43c8-f205-20ebb2110f75"
   },
   "outputs": [
    {
     "data": {
      "application/vnd.google.colaboratory.intrinsic+json": {
       "type": "string"
      },
      "text/plain": [
       "'\\n# Performing CV to tune parameters for best SVM fit \\nsvm_model = GridSearchCV(SVC(), params_grid, cv=2, verbose=10, n_jobs=6)\\nsvm_model.fit(X_train_scaled, Y_train)\\n'"
      ]
     },
     "execution_count": 9,
     "metadata": {
      "tags": []
     },
     "output_type": "execute_result"
    }
   ],
   "source": [
    "'''\n",
    "# Performing CV to tune parameters for best SVM fit \n",
    "svm_model = GridSearchCV(SVC(), params_grid, cv=2, verbose=10, n_jobs=6)\n",
    "svm_model.fit(X_train_scaled, Y_train)\n",
    "'''"
   ]
  },
  {
   "cell_type": "code",
   "execution_count": 10,
   "metadata": {
    "colab": {
     "base_uri": "https://localhost:8080/"
    },
    "executionInfo": {
     "elapsed": 9902,
     "status": "ok",
     "timestamp": 1628177245158,
     "user": {
      "displayName": "Efy Yosrita",
      "photoUrl": "",
      "userId": "09854207285420020525"
     },
     "user_tz": -420
    },
    "id": "DFfWwvVvNY-D",
    "outputId": "cca10a27-699f-4683-83fc-5763058913d6"
   },
   "outputs": [
    {
     "data": {
      "text/plain": [
       "SVC(C=1000, break_ties=False, cache_size=200, class_weight=None, coef0=0.0,\n",
       "    decision_function_shape='ovr', degree=3, gamma=0.001, kernel='rbf',\n",
       "    max_iter=-1, probability=False, random_state=None, shrinking=True,\n",
       "    tol=0.001, verbose=False)"
      ]
     },
     "execution_count": 10,
     "metadata": {
      "tags": []
     },
     "output_type": "execute_result"
    }
   ],
   "source": [
    "final_model = SVC(kernel='rbf', gamma=0.001, C=1000)\n",
    "#final_model = SVC(kernel='poly', gamma=0.001, C=1000)\n",
    "final_model.fit(X_train, Y_train)"
   ]
  },
  {
   "cell_type": "code",
   "execution_count": 11,
   "metadata": {
    "colab": {
     "base_uri": "https://localhost:8080/"
    },
    "executionInfo": {
     "elapsed": 5173,
     "status": "ok",
     "timestamp": 1628177257875,
     "user": {
      "displayName": "Efy Yosrita",
      "photoUrl": "",
      "userId": "09854207285420020525"
     },
     "user_tz": -420
    },
    "id": "eh-5Pzt0OEqg",
    "outputId": "934d7117-3bc3-4d04-f35d-8195738c5016"
   },
   "outputs": [
    {
     "name": "stdout",
     "output_type": "stream",
     "text": [
      "Training set score for SVM: 0.960227\n",
      "Testing  set score for SVM: 0.807765\n"
     ]
    }
   ],
   "source": [
    "Y_pred = final_model.predict(X_test)\n",
    "Y_pred_label = list(encoder.inverse_transform(Y_pred))\n",
    "\n",
    "print(\"Training set score for SVM: %f\" % final_model.score(X_train , Y_train))\n",
    "print(\"Testing  set score for SVM: %f\" % final_model.score(X_test  , Y_test ))"
   ]
  },
  {
   "cell_type": "markdown",
   "metadata": {
    "id": "w4bE_2P9PpNI"
   },
   "source": [
    "Confusion Matrix and Accuracy Score"
   ]
  },
  {
   "cell_type": "code",
   "execution_count": 12,
   "metadata": {
    "colab": {
     "base_uri": "https://localhost:8080/",
     "height": 69
    },
    "executionInfo": {
     "elapsed": 340,
     "status": "ok",
     "timestamp": 1628177273582,
     "user": {
      "displayName": "Efy Yosrita",
      "photoUrl": "",
      "userId": "09854207285420020525"
     },
     "user_tz": -420
    },
    "id": "uz5HOQYTOUHC",
    "outputId": "520816a3-7819-4f20-d935-1c272b3fd2b9"
   },
   "outputs": [
    {
     "data": {
      "application/vnd.google.colaboratory.intrinsic+json": {
       "type": "string"
      },
      "text/plain": [
       "'\\n# View the accuracy score\\nprint(\\'Best score for training data:\\', svm_model.best_score_,\"\\n\") \\n\\n# View the best parameters for the model found using grid search\\nprint(\\'Best C:\\',svm_model.best_estimator_.C,\"\\n\") \\nprint(\\'Best Kernel:\\',svm_model.best_estimator_.kernel,\"\\n\")\\nprint(\\'Best Gamma:\\',svm_model.best_estimator_.gamma,\"\\n\")\\n\\nfinal_model = svm_model.best_estimator_\\nY_pred = final_model.predict(X_test_scaled)\\nY_pred_label = list(encoder.inverse_transform(Y_pred))\\n'"
      ]
     },
     "execution_count": 12,
     "metadata": {
      "tags": []
     },
     "output_type": "execute_result"
    }
   ],
   "source": [
    "'''\n",
    "# View the accuracy score\n",
    "print('Best score for training data:', svm_model.best_score_,\"\\n\") \n",
    "\n",
    "# View the best parameters for the model found using grid search\n",
    "print('Best C:',svm_model.best_estimator_.C,\"\\n\") \n",
    "print('Best Kernel:',svm_model.best_estimator_.kernel,\"\\n\")\n",
    "print('Best Gamma:',svm_model.best_estimator_.gamma,\"\\n\")\n",
    "\n",
    "final_model = svm_model.best_estimator_\n",
    "Y_pred = final_model.predict(X_test_scaled)\n",
    "Y_pred_label = list(encoder.inverse_transform(Y_pred))\n",
    "'''"
   ]
  },
  {
   "cell_type": "code",
   "execution_count": null,
   "metadata": {
    "colab": {
     "base_uri": "https://localhost:8080/"
    },
    "executionInfo": {
     "elapsed": 2808,
     "status": "ok",
     "timestamp": 1628176881020,
     "user": {
      "displayName": "Efy Yosrita",
      "photoUrl": "",
      "userId": "09854207285420020525"
     },
     "user_tz": -420
    },
    "id": "z5iwsRM1OXJS",
    "outputId": "bbaf974c-4a39-4f94-8b10-716fa85e32c9"
   },
   "outputs": [
    {
     "name": "stdout",
     "output_type": "stream",
     "text": [
      "[[164  48   5  11   5   6  13   5]\n",
      " [ 12 235   9   4   4   3   5   1]\n",
      " [ 10  62 162   6   7   8  13   1]\n",
      " [  9  46   7 165   8   2   6   3]\n",
      " [ 13  60  10  18 144   7  25   2]\n",
      " [  5  52  14   6  11 148  18   9]\n",
      " [  5  37   4   5   5   5 182   2]\n",
      " [  8  57   1  11   8   6   7 182]]\n",
      "\n",
      "\n",
      "              precision    recall  f1-score   support\n",
      "\n",
      "           0       0.73      0.64      0.68       257\n",
      "           1       0.39      0.86      0.54       273\n",
      "           2       0.76      0.60      0.67       269\n",
      "           3       0.73      0.67      0.70       246\n",
      "           4       0.75      0.52      0.61       279\n",
      "           5       0.80      0.56      0.66       263\n",
      "           6       0.68      0.74      0.71       245\n",
      "           7       0.89      0.65      0.75       280\n",
      "\n",
      "    accuracy                           0.65      2112\n",
      "   macro avg       0.72      0.66      0.67      2112\n",
      "weighted avg       0.72      0.65      0.66      2112\n",
      "\n",
      "Training set score for SVM: 0.797687\n",
      "Testing  set score for SVM: 0.654356\n"
     ]
    }
   ],
   "source": [
    "# Making the Confusion Matrix\n",
    "print(confusion_matrix(Y_test,Y_pred))\n",
    "print(\"\\n\")\n",
    "print(classification_report(Y_test,Y_pred))\n",
    "\n",
    "print(\"Training set score for SVM: %f\" % final_model.score(X_train , Y_train))\n",
    "print(\"Testing  set score for SVM: %f\" % final_model.score(X_test  , Y_test ))\n"
   ]
  },
  {
   "cell_type": "code",
   "execution_count": 13,
   "metadata": {
    "executionInfo": {
     "elapsed": 730,
     "status": "ok",
     "timestamp": 1628177280246,
     "user": {
      "displayName": "Efy Yosrita",
      "photoUrl": "",
      "userId": "09854207285420020525"
     },
     "user_tz": -420
    },
    "id": "YzoHrZBpPW19"
   },
   "outputs": [],
   "source": [
    "import numpy as np\n",
    "import matplotlib.pyplot as plt\n",
    "\n",
    "from sklearn.metrics import confusion_matrix\n",
    "from sklearn.utils.multiclass import unique_labels\n",
    "\n",
    "\n",
    "def plot_confusion_matrix(y_true, y_pred, classes,\n",
    "                          normalize=False,\n",
    "                          title=None,\n",
    "                          cmap=plt.cm.Blues):\n",
    "    \"\"\"\n",
    "    This function prints and plots the confusion matrix.\n",
    "    Normalization can be applied by setting `normalize=True`.\n",
    "    \"\"\"\n",
    "    \n",
    "    if not title:\n",
    "        if normalize:\n",
    "            title = 'Normalized confusion matrix'\n",
    "        else:\n",
    "            title = 'Confusion matrix, without normalization'\n",
    "\n",
    "    # Compute confusion matrix\n",
    "    cm = confusion_matrix(y_true, y_pred)\n",
    "    \n",
    "    # Only use the labels that appear in the data\n",
    "    classes = unique_labels(y_true, y_pred)\n",
    "    \n",
    "    \n",
    "    if normalize:\n",
    "        cm = cm.astype('float') / cm.sum(axis=1)[:, np.newaxis]\n",
    "        print(\"Normalized confusion matrix\")\n",
    "    else:\n",
    "        print('Confusion matrix, without normalization')\n",
    "\n",
    "    print(cm)\n",
    "\n",
    "    fig, ax = plt.subplots(figsize=(10, 10))\n",
    "    im = ax.imshow(cm, interpolation='nearest', cmap=cmap)\n",
    "    ax.figure.colorbar(im, ax=ax)\n",
    "    # We want to show all ticks...\n",
    "    ax.set(xticks=np.arange(cm.shape[1]),\n",
    "           yticks=np.arange(cm.shape[0]),\n",
    "           # ... and label them with the respective list entries\n",
    "           xticklabels=classes, yticklabels=classes,\n",
    "           title=title,\n",
    "           ylabel='True label',\n",
    "           xlabel='Predicted label')\n",
    "\n",
    "    # Rotate the tick labels and set their alignment.\n",
    "    plt.setp(ax.get_xticklabels(), rotation=45, ha=\"right\",\n",
    "             rotation_mode=\"anchor\")\n",
    "\n",
    "    # Loop over data dimensions and create text annotations.\n",
    "    fmt = '.2f' if normalize else 'd'\n",
    "    thresh = cm.max() / 2.\n",
    "    for i in range(cm.shape[0]):\n",
    "        for j in range(cm.shape[1]):\n",
    "            ax.text(j, i, format(cm[i, j], fmt),\n",
    "                    ha=\"center\", va=\"center\",\n",
    "                    color=\"white\" if cm[i, j] > thresh else \"black\")\n",
    "    fig.tight_layout()\n",
    "    return ax"
   ]
  },
  {
   "cell_type": "code",
   "execution_count": 14,
   "metadata": {
    "colab": {
     "base_uri": "https://localhost:8080/",
     "height": 1000
    },
    "executionInfo": {
     "elapsed": 1769,
     "status": "ok",
     "timestamp": 1628177301963,
     "user": {
      "displayName": "Efy Yosrita",
      "photoUrl": "",
      "userId": "09854207285420020525"
     },
     "user_tz": -420
    },
    "id": "OlUFuwZpPfg5",
    "outputId": "2d593bf8-93ae-4d53-da9a-510e71cfcd4f"
   },
   "outputs": [
    {
     "name": "stdout",
     "output_type": "stream",
     "text": [
      "Confusion matrix, without normalization\n",
      "[[233   5   4   2  12   4   3  15]\n",
      " [ 11 218   5   5   3   6   6  10]\n",
      " [ 13  14 211   9   5  11   3  10]\n",
      " [ 11   6   9 223   6   3   8  13]\n",
      " [ 16  16   7   3 200  10   8  11]\n",
      " [  5   4   4   0   9 196  12  10]\n",
      " [  3   9   6   3   4   9 208  12]\n",
      " [ 10   5   1   3   4   4   6 217]]\n",
      "Normalized confusion matrix\n",
      "[[0.84 0.02 0.01 0.01 0.04 0.01 0.01 0.05]\n",
      " [0.04 0.83 0.02 0.02 0.01 0.02 0.02 0.04]\n",
      " [0.05 0.05 0.76 0.03 0.02 0.04 0.01 0.04]\n",
      " [0.04 0.02 0.03 0.8  0.02 0.01 0.03 0.05]\n",
      " [0.06 0.06 0.03 0.01 0.74 0.04 0.03 0.04]\n",
      " [0.02 0.02 0.02 0.   0.04 0.82 0.05 0.04]\n",
      " [0.01 0.04 0.02 0.01 0.02 0.04 0.82 0.05]\n",
      " [0.04 0.02 0.   0.01 0.02 0.02 0.02 0.87]]\n"
     ]
    },
    {
     "data": {
      "image/png": "[encoded data removed]",
      "text/plain": [
       "<Figure size 720x720 with 2 Axes>"
      ]
     },
     "metadata": {
      "needs_background": "light",
      "tags": []
     },
     "output_type": "display_data"
    },
    {
     "data": {
      "image/png": "[encoded data removed]",
      "text/plain": [
       "<Figure size 720x720 with 2 Axes>"
      ]
     },
     "metadata": {
      "needs_background": "light",
      "tags": []
     },
     "output_type": "display_data"
    }
   ],
   "source": [
    "np.set_printoptions(precision=2)\n",
    "\n",
    "\n",
    "# Plot non-normalized confusion matrix\n",
    "plot_confusion_matrix(Y_test, Y_pred, classes=labels,\n",
    "                      title='Confusion matrix, without normalization')\n",
    "\n",
    "# Plot normalized confusion matrix\n",
    "plot_confusion_matrix(Y_test, Y_pred, classes=labels, normalize=True,\n",
    "                      title='Normalized confusion matrix')\n",
    "\n",
    "plt.show()"
   ]
  },
  {
   "cell_type": "code",
   "execution_count": null,
   "metadata": {},
   "outputs": [],
   "source": []
  }
 ],
 "metadata": {
  "colab": {
   "name": "20210805-SVM_All-baca-7040x73-rbf.ipynb",
   "provenance": [
    {
     "file_id": "1Nr_fxBKtD_uN8053rTzxi2tRk0476n7q",
     "timestamp": 1628176942270
    },
    {
     "file_id": "102iG2b6ks7bDwoT2t4hSqod_lDbhJnZc",
     "timestamp": 1628176526873
    },
    {
     "file_id": "15tpfDGqbzTvSwHdkmLSI2rTzBl1VC7GH",
     "timestamp": 1628173733243
    },
    {
     "file_id": "1-mzpZ1vf49clTMY4qUVNZALnldps1qvC",
     "timestamp": 1628147823752
    }
   ]
  },
  "kernelspec": {
   "display_name": "Python 3 (ipykernel)",
   "language": "python",
   "name": "python3"
  },
  "language_info": {
   "codemirror_mode": {
    "name": "ipython",
    "version": 3
   },
   "file_extension": ".py",
   "mimetype": "text/x-python",
   "name": "python",
   "nbconvert_exporter": "python",
   "pygments_lexer": "ipython3",
   "version": "3.9.7"
  }
 },
 "nbformat": 4,
 "nbformat_minor": 4
}
