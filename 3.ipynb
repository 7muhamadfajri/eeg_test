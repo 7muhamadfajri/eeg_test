{
 "cells": [
  {
   "cell_type": "code",
   "execution_count": 1,
   "id": "71e0256c-86f5-4c07-9bc0-b0499aaed144",
   "metadata": {},
   "outputs": [],
   "source": [
    "import numpy as np\n",
    "import pandas as pd\n",
    "from sklearn.pipeline import Pipeline\n",
    "from sklearn.model_selection import train_test_split, GridSearchCV\n",
    "from sklearn.svm import SVC\n",
    "from sklearn.metrics import accuracy_score,confusion_matrix, classification_report\n",
    "import matplotlib.pyplot as plt\n",
    "import seaborn as sns\n",
    "from sklearn.metrics import precision_score\n",
    "from sklearn.metrics import accuracy_score\n",
    "from sklearn.metrics import recall_score\n",
    "from sklearn.metrics import f1_score\n",
    "from numpy.random import RandomState"
   ]
  },
  {
   "cell_type": "code",
   "execution_count": 2,
   "id": "424b7ca7-de44-4420-9a13-3a5021c3811c",
   "metadata": {},
   "outputs": [],
   "source": [
    "#read the data with pandas\n",
    "dataframe=pd.read_csv(\"All-baca-7040x73.csv\")"
   ]
  },
  {
   "cell_type": "code",
   "execution_count": 6,
   "id": "896c665d-80c1-4ea3-867a-025de0ebd8d4",
   "metadata": {},
   "outputs": [
    {
     "data": {
      "text/plain": [
       "2     880\n",
       "7     880\n",
       "12    880\n",
       "17    880\n",
       "22    880\n",
       "27    880\n",
       "32    880\n",
       "37    880\n",
       "Name: LABEL, dtype: int64"
      ]
     },
     "execution_count": 6,
     "metadata": {},
     "output_type": "execute_result"
    }
   ],
   "source": [
    "#find the number of rows and columns in the dataframe\n",
    "dataframe\n",
    "dataframe['LABEL'].value_counts()"
   ]
  },
  {
   "cell_type": "code",
   "execution_count": 5,
   "id": "eef52887-e748-4887-82e5-c97047bafea8",
   "metadata": {},
   "outputs": [
    {
     "data": {
      "text/plain": [
       "Index(['SUBJEK', 'KATA', 'LABEL', 'AF3_THETA', 'AF3_ALPHA', 'AF3_LOW_BETA',\n",
       "       'AF3_HIGH_BETA', 'AF3_GAMMA', 'F7_THETA', 'F7_ALPHA', 'F7_LOW_BETA',\n",
       "       'F7_HIGH_BETA', 'F7_GAMMA', 'F3_THETA', 'F3_ALPHA', 'F3_LOW_BETA',\n",
       "       'F3_HIGH_BETA', 'F3_GAMMA', 'FC5_THETA', 'FC5_ALPHA', 'FC5_LOW_BETA',\n",
       "       'FC5_HIGH_BETA', 'FC5_GAMMA', 'T7_THETA', 'T7_ALPHA', 'T7_LOW_BETA',\n",
       "       'T7_HIGH_BETA', 'T7_GAMMA', 'P7_THETA', 'P7_ALPHA', 'P7_LOW_BETA',\n",
       "       'P7_HIGH_BETA', 'P7_GAMMA', 'O1_THETA', 'O1_ALPHA', 'O1_LOW_BETA',\n",
       "       'O1_HIGH_BETA', 'O1_GAMMA', 'O2_THETA', 'O2_ALPHA', 'O2_LOW_BETA',\n",
       "       'O2_HIGH_BETA', 'O2_GAMMA', 'P8_THETA', 'P8_ALPHA', 'P8_LOW_BETA',\n",
       "       'P8_HIGH_BETA', 'P8_GAMMA', 'T8_THETA', 'T8_ALPHA', 'T8_LOW_BETA',\n",
       "       'T8_HIGH_BETA', 'T8_GAMMA', 'FC6_THETA', 'FC6_ALPHA', 'FC6_LOW_BETA',\n",
       "       'FC6_HIGH_BETA', 'FC6_GAMMA', 'F4_THETA', 'F4_ALPHA', 'F4_LOW_BETA',\n",
       "       'F4_HIGH_BETA', 'F4_GAMMA', 'F8_THETA', 'F8_ALPHA', 'F8_LOW_BETA',\n",
       "       'F8_HIGH_BETA', 'F8_GAMMA', 'AF4_THETA', 'AF4_ALPHA', 'AF4_LOW_BETA',\n",
       "       'AF4_HIGH_BETA', 'AF4_GAMMA'],\n",
       "      dtype='object')"
      ]
     },
     "execution_count": 5,
     "metadata": {},
     "output_type": "execute_result"
    }
   ],
   "source": [
    "# list the column names\n",
    "dataframe.columns"
   ]
  },
  {
   "cell_type": "code",
   "execution_count": 7,
   "id": "a295209d-becc-4113-9780-bdc94b066d3e",
   "metadata": {},
   "outputs": [
    {
     "name": "stdout",
     "output_type": "stream",
     "text": [
      "<class 'pandas.core.frame.DataFrame'>\n",
      "RangeIndex: 7040 entries, 0 to 7039\n",
      "Data columns (total 73 columns):\n",
      " #   Column         Non-Null Count  Dtype  \n",
      "---  ------         --------------  -----  \n",
      " 0   SUBJEK         7040 non-null   object \n",
      " 1   KATA           7040 non-null   object \n",
      " 2   LABEL          7040 non-null   int64  \n",
      " 3   AF3_THETA      7040 non-null   float64\n",
      " 4   AF3_ALPHA      7040 non-null   float64\n",
      " 5   AF3_LOW_BETA   7040 non-null   float64\n",
      " 6   AF3_HIGH_BETA  7040 non-null   float64\n",
      " 7   AF3_GAMMA      7040 non-null   float64\n",
      " 8   F7_THETA       7040 non-null   float64\n",
      " 9   F7_ALPHA       7040 non-null   float64\n",
      " 10  F7_LOW_BETA    7040 non-null   float64\n",
      " 11  F7_HIGH_BETA   7040 non-null   float64\n",
      " 12  F7_GAMMA       7040 non-null   float64\n",
      " 13  F3_THETA       7040 non-null   float64\n",
      " 14  F3_ALPHA       7040 non-null   float64\n",
      " 15  F3_LOW_BETA    7040 non-null   float64\n",
      " 16  F3_HIGH_BETA   7040 non-null   float64\n",
      " 17  F3_GAMMA       7040 non-null   float64\n",
      " 18  FC5_THETA      7040 non-null   float64\n",
      " 19  FC5_ALPHA      7040 non-null   float64\n",
      " 20  FC5_LOW_BETA   7040 non-null   float64\n",
      " 21  FC5_HIGH_BETA  7040 non-null   float64\n",
      " 22  FC5_GAMMA      7040 non-null   float64\n",
      " 23  T7_THETA       7040 non-null   float64\n",
      " 24  T7_ALPHA       7040 non-null   float64\n",
      " 25  T7_LOW_BETA    7040 non-null   float64\n",
      " 26  T7_HIGH_BETA   7040 non-null   float64\n",
      " 27  T7_GAMMA       7040 non-null   float64\n",
      " 28  P7_THETA       7040 non-null   float64\n",
      " 29  P7_ALPHA       7040 non-null   float64\n",
      " 30  P7_LOW_BETA    7040 non-null   float64\n",
      " 31  P7_HIGH_BETA   7040 non-null   float64\n",
      " 32  P7_GAMMA       7040 non-null   float64\n",
      " 33  O1_THETA       7040 non-null   float64\n",
      " 34  O1_ALPHA       7040 non-null   float64\n",
      " 35  O1_LOW_BETA    7040 non-null   float64\n",
      " 36  O1_HIGH_BETA   7040 non-null   float64\n",
      " 37  O1_GAMMA       7040 non-null   float64\n",
      " 38  O2_THETA       7040 non-null   float64\n",
      " 39  O2_ALPHA       7040 non-null   float64\n",
      " 40  O2_LOW_BETA    7040 non-null   float64\n",
      " 41  O2_HIGH_BETA   7040 non-null   float64\n",
      " 42  O2_GAMMA       7040 non-null   float64\n",
      " 43  P8_THETA       7040 non-null   float64\n",
      " 44  P8_ALPHA       7040 non-null   float64\n",
      " 45  P8_LOW_BETA    7040 non-null   float64\n",
      " 46  P8_HIGH_BETA   7040 non-null   float64\n",
      " 47  P8_GAMMA       7040 non-null   float64\n",
      " 48  T8_THETA       7040 non-null   float64\n",
      " 49  T8_ALPHA       7040 non-null   float64\n",
      " 50  T8_LOW_BETA    7040 non-null   float64\n",
      " 51  T8_HIGH_BETA   7040 non-null   float64\n",
      " 52  T8_GAMMA       7040 non-null   float64\n",
      " 53  FC6_THETA      7040 non-null   float64\n",
      " 54  FC6_ALPHA      7040 non-null   float64\n",
      " 55  FC6_LOW_BETA   7040 non-null   float64\n",
      " 56  FC6_HIGH_BETA  7040 non-null   float64\n",
      " 57  FC6_GAMMA      7040 non-null   float64\n",
      " 58  F4_THETA       7040 non-null   float64\n",
      " 59  F4_ALPHA       7040 non-null   float64\n",
      " 60  F4_LOW_BETA    7040 non-null   float64\n",
      " 61  F4_HIGH_BETA   7040 non-null   float64\n",
      " 62  F4_GAMMA       7040 non-null   float64\n",
      " 63  F8_THETA       7040 non-null   float64\n",
      " 64  F8_ALPHA       7040 non-null   float64\n",
      " 65  F8_LOW_BETA    7040 non-null   float64\n",
      " 66  F8_HIGH_BETA   7040 non-null   float64\n",
      " 67  F8_GAMMA       7040 non-null   float64\n",
      " 68  AF4_THETA      7040 non-null   float64\n",
      " 69  AF4_ALPHA      7040 non-null   float64\n",
      " 70  AF4_LOW_BETA   7040 non-null   float64\n",
      " 71  AF4_HIGH_BETA  7040 non-null   float64\n",
      " 72  AF4_GAMMA      7040 non-null   float64\n",
      "dtypes: float64(70), int64(1), object(2)\n",
      "memory usage: 3.9+ MB\n"
     ]
    }
   ],
   "source": [
    "dataframe.info()"
   ]
  },
  {
   "cell_type": "code",
   "execution_count": 8,
   "id": "0d2cf8a8-76e2-4d5b-89ef-ca4281d4f188",
   "metadata": {},
   "outputs": [],
   "source": [
    "subset=dataframe.iloc[:,1:]"
   ]
  },
  {
   "cell_type": "code",
   "execution_count": 9,
   "id": "00e53e5b-b639-47d4-8a56-44f07cca87e8",
   "metadata": {},
   "outputs": [
    {
     "data": {
      "text/plain": [
       "(7040, 72)"
      ]
     },
     "execution_count": 9,
     "metadata": {},
     "output_type": "execute_result"
    }
   ],
   "source": [
    "subset.shape"
   ]
  },
  {
   "cell_type": "code",
   "execution_count": 10,
   "id": "b8556c7a-f2bf-4400-a9b1-481396569a05",
   "metadata": {},
   "outputs": [
    {
     "name": "stdout",
     "output_type": "stream",
     "text": [
      "<class 'pandas.core.frame.DataFrame'>\n",
      "RangeIndex: 7040 entries, 0 to 7039\n",
      "Data columns (total 72 columns):\n",
      " #   Column         Non-Null Count  Dtype  \n",
      "---  ------         --------------  -----  \n",
      " 0   KATA           7040 non-null   object \n",
      " 1   LABEL          7040 non-null   int64  \n",
      " 2   AF3_THETA      7040 non-null   float64\n",
      " 3   AF3_ALPHA      7040 non-null   float64\n",
      " 4   AF3_LOW_BETA   7040 non-null   float64\n",
      " 5   AF3_HIGH_BETA  7040 non-null   float64\n",
      " 6   AF3_GAMMA      7040 non-null   float64\n",
      " 7   F7_THETA       7040 non-null   float64\n",
      " 8   F7_ALPHA       7040 non-null   float64\n",
      " 9   F7_LOW_BETA    7040 non-null   float64\n",
      " 10  F7_HIGH_BETA   7040 non-null   float64\n",
      " 11  F7_GAMMA       7040 non-null   float64\n",
      " 12  F3_THETA       7040 non-null   float64\n",
      " 13  F3_ALPHA       7040 non-null   float64\n",
      " 14  F3_LOW_BETA    7040 non-null   float64\n",
      " 15  F3_HIGH_BETA   7040 non-null   float64\n",
      " 16  F3_GAMMA       7040 non-null   float64\n",
      " 17  FC5_THETA      7040 non-null   float64\n",
      " 18  FC5_ALPHA      7040 non-null   float64\n",
      " 19  FC5_LOW_BETA   7040 non-null   float64\n",
      " 20  FC5_HIGH_BETA  7040 non-null   float64\n",
      " 21  FC5_GAMMA      7040 non-null   float64\n",
      " 22  T7_THETA       7040 non-null   float64\n",
      " 23  T7_ALPHA       7040 non-null   float64\n",
      " 24  T7_LOW_BETA    7040 non-null   float64\n",
      " 25  T7_HIGH_BETA   7040 non-null   float64\n",
      " 26  T7_GAMMA       7040 non-null   float64\n",
      " 27  P7_THETA       7040 non-null   float64\n",
      " 28  P7_ALPHA       7040 non-null   float64\n",
      " 29  P7_LOW_BETA    7040 non-null   float64\n",
      " 30  P7_HIGH_BETA   7040 non-null   float64\n",
      " 31  P7_GAMMA       7040 non-null   float64\n",
      " 32  O1_THETA       7040 non-null   float64\n",
      " 33  O1_ALPHA       7040 non-null   float64\n",
      " 34  O1_LOW_BETA    7040 non-null   float64\n",
      " 35  O1_HIGH_BETA   7040 non-null   float64\n",
      " 36  O1_GAMMA       7040 non-null   float64\n",
      " 37  O2_THETA       7040 non-null   float64\n",
      " 38  O2_ALPHA       7040 non-null   float64\n",
      " 39  O2_LOW_BETA    7040 non-null   float64\n",
      " 40  O2_HIGH_BETA   7040 non-null   float64\n",
      " 41  O2_GAMMA       7040 non-null   float64\n",
      " 42  P8_THETA       7040 non-null   float64\n",
      " 43  P8_ALPHA       7040 non-null   float64\n",
      " 44  P8_LOW_BETA    7040 non-null   float64\n",
      " 45  P8_HIGH_BETA   7040 non-null   float64\n",
      " 46  P8_GAMMA       7040 non-null   float64\n",
      " 47  T8_THETA       7040 non-null   float64\n",
      " 48  T8_ALPHA       7040 non-null   float64\n",
      " 49  T8_LOW_BETA    7040 non-null   float64\n",
      " 50  T8_HIGH_BETA   7040 non-null   float64\n",
      " 51  T8_GAMMA       7040 non-null   float64\n",
      " 52  FC6_THETA      7040 non-null   float64\n",
      " 53  FC6_ALPHA      7040 non-null   float64\n",
      " 54  FC6_LOW_BETA   7040 non-null   float64\n",
      " 55  FC6_HIGH_BETA  7040 non-null   float64\n",
      " 56  FC6_GAMMA      7040 non-null   float64\n",
      " 57  F4_THETA       7040 non-null   float64\n",
      " 58  F4_ALPHA       7040 non-null   float64\n",
      " 59  F4_LOW_BETA    7040 non-null   float64\n",
      " 60  F4_HIGH_BETA   7040 non-null   float64\n",
      " 61  F4_GAMMA       7040 non-null   float64\n",
      " 62  F8_THETA       7040 non-null   float64\n",
      " 63  F8_ALPHA       7040 non-null   float64\n",
      " 64  F8_LOW_BETA    7040 non-null   float64\n",
      " 65  F8_HIGH_BETA   7040 non-null   float64\n",
      " 66  F8_GAMMA       7040 non-null   float64\n",
      " 67  AF4_THETA      7040 non-null   float64\n",
      " 68  AF4_ALPHA      7040 non-null   float64\n",
      " 69  AF4_LOW_BETA   7040 non-null   float64\n",
      " 70  AF4_HIGH_BETA  7040 non-null   float64\n",
      " 71  AF4_GAMMA      7040 non-null   float64\n",
      "dtypes: float64(70), int64(1), object(1)\n",
      "memory usage: 3.9+ MB\n"
     ]
    }
   ],
   "source": [
    "subset.info()"
   ]
  },
  {
   "cell_type": "code",
   "execution_count": 11,
   "id": "4c8d2f20-d1fc-47e5-b3ff-3fd338eaeb23",
   "metadata": {},
   "outputs": [
    {
     "data": {
      "text/plain": [
       "KATA             0\n",
       "LABEL            0\n",
       "AF3_THETA        0\n",
       "AF3_ALPHA        0\n",
       "AF3_LOW_BETA     0\n",
       "                ..\n",
       "AF4_THETA        0\n",
       "AF4_ALPHA        0\n",
       "AF4_LOW_BETA     0\n",
       "AF4_HIGH_BETA    0\n",
       "AF4_GAMMA        0\n",
       "Length: 72, dtype: int64"
      ]
     },
     "execution_count": 11,
     "metadata": {},
     "output_type": "execute_result"
    }
   ],
   "source": [
    "subset.isnull().sum()"
   ]
  },
  {
   "cell_type": "code",
   "execution_count": 6,
   "id": "8ada2489-e59a-480b-a495-dcc9a22ef1dd",
   "metadata": {},
   "outputs": [
    {
     "data": {
      "text/html": [
       "<div>\n",
       "<style scoped>\n",
       "    .dataframe tbody tr th:only-of-type {\n",
       "        vertical-align: middle;\n",
       "    }\n",
       "\n",
       "    .dataframe tbody tr th {\n",
       "        vertical-align: top;\n",
       "    }\n",
       "\n",
       "    .dataframe thead th {\n",
       "        text-align: right;\n",
       "    }\n",
       "</style>\n",
       "<table border=\"1\" class=\"dataframe\">\n",
       "  <thead>\n",
       "    <tr style=\"text-align: right;\">\n",
       "      <th>col_0</th>\n",
       "      <th>count</th>\n",
       "    </tr>\n",
       "    <tr>\n",
       "      <th>KATA</th>\n",
       "      <th></th>\n",
       "    </tr>\n",
       "  </thead>\n",
       "  <tbody>\n",
       "    <tr>\n",
       "      <th>HAUS</th>\n",
       "      <td>880</td>\n",
       "    </tr>\n",
       "    <tr>\n",
       "      <th>LAPAR</th>\n",
       "      <td>880</td>\n",
       "    </tr>\n",
       "    <tr>\n",
       "      <th>MAKAN</th>\n",
       "      <td>880</td>\n",
       "    </tr>\n",
       "    <tr>\n",
       "      <th>MINUM</th>\n",
       "      <td>880</td>\n",
       "    </tr>\n",
       "    <tr>\n",
       "      <th>SAKIT</th>\n",
       "      <td>880</td>\n",
       "    </tr>\n",
       "    <tr>\n",
       "      <th>SEDIH</th>\n",
       "      <td>880</td>\n",
       "    </tr>\n",
       "    <tr>\n",
       "      <th>SENANG</th>\n",
       "      <td>880</td>\n",
       "    </tr>\n",
       "    <tr>\n",
       "      <th>TOILET</th>\n",
       "      <td>880</td>\n",
       "    </tr>\n",
       "  </tbody>\n",
       "</table>\n",
       "</div>"
      ],
      "text/plain": [
       "col_0   count\n",
       "KATA         \n",
       "HAUS      880\n",
       "LAPAR     880\n",
       "MAKAN     880\n",
       "MINUM     880\n",
       "SAKIT     880\n",
       "SEDIH     880\n",
       "SENANG    880\n",
       "TOILET    880"
      ]
     },
     "execution_count": 6,
     "metadata": {},
     "output_type": "execute_result"
    }
   ],
   "source": [
    "#Frequency distribution of classes\"\n",
    "train_outcome = pd.crosstab(index=dataframe['KATA'],  # Make a crosstab\n",
    "                              columns=\"count\")      # Name the count column\n",
    "\n",
    "train_outcome"
   ]
  },
  {
   "cell_type": "code",
   "execution_count": 7,
   "id": "a52cea94-7744-4d49-b40c-b81e93e6ef2d",
   "metadata": {},
   "outputs": [],
   "source": [
    "rng = RandomState()\n",
    "df = pd.read_csv(\"All-baca-7040x73.csv\")\n",
    "train = dataframe.sample(frac=0.7, random_state=rng)\n",
    "test = dataframe.loc[~dataframe.index.isin(train.index)]"
   ]
  },
  {
   "cell_type": "code",
   "execution_count": 8,
   "id": "0510e3d7-b990-4747-8d96-34599e7a9852",
   "metadata": {},
   "outputs": [
    {
     "name": "stdout",
     "output_type": "stream",
     "text": [
      "Dimension of Train set (4928, 70)\n",
      "Dimension of Test set (2112, 70) \n",
      "\n",
      "Number of numeric features: 70\n"
     ]
    }
   ],
   "source": [
    "# Seperating Predictors and Outcome values from train and test sets\n",
    "X_train = pd.DataFrame(train.drop(['SUBJEK','KATA','LABEL'],axis=1))\n",
    "Y_train_label = train.LABEL.values.astype(object)\n",
    "\n",
    "X_test = pd.DataFrame(test.drop(['SUBJEK','KATA','LABEL'],axis=1))\n",
    "Y_test_label = test.LABEL.values.astype(object)\n",
    "\n",
    "# Dimension of Train and Test set \n",
    "print(\"Dimension of Train set\",X_train.shape)\n",
    "print(\"Dimension of Test set\",X_test.shape,\"\\n\")\n",
    "\n",
    "# Transforming non numerical labels into numerical labels\n",
    "from sklearn import preprocessing\n",
    "encoder = preprocessing.LabelEncoder()\n",
    "\n",
    "# encoding train labels \n",
    "encoder.fit(Y_train_label)\n",
    "Y_train = encoder.transform(Y_train_label)\n",
    "\n",
    "# encoding test labels \n",
    "encoder.fit(Y_test_label)\n",
    "Y_test = encoder.transform(Y_test_label)\n",
    "\n",
    "#Total Number of Continous and Categorical features in the training set\n",
    "num_cols = X_train._get_numeric_data().columns\n",
    "print(\"Number of numeric features:\",num_cols.size)\n",
    "#list(set(X_train.columns) - set(num_cols))\n",
    "\n",
    "\n",
    "names_of_predictors = list(X_train.columns.values)\n"
   ]
  },
  {
   "cell_type": "code",
   "execution_count": 9,
   "id": "4c976f1f-a2b5-4de1-bbba-ace32b8a235b",
   "metadata": {},
   "outputs": [
    {
     "data": {
      "text/plain": [
       "SVC(C=1000, gamma=0.001)"
      ]
     },
     "execution_count": 9,
     "metadata": {},
     "output_type": "execute_result"
    }
   ],
   "source": [
    "final_model = SVC(kernel='rbf', gamma=0.001, C=1000)\n",
    "#final_model = SVC(kernel='poly', gamma=0.001, C=1000)\n",
    "final_model.fit(X_train, Y_train)"
   ]
  },
  {
   "cell_type": "code",
   "execution_count": 10,
   "id": "50a14b76-6923-48eb-9869-1b131fdae0c6",
   "metadata": {},
   "outputs": [
    {
     "name": "stdout",
     "output_type": "stream",
     "text": [
      "Training set score for SVM: 0.963677\n",
      "Testing  set score for SVM: 0.788826\n"
     ]
    }
   ],
   "source": [
    "Y_pred = final_model.predict(X_test)\n",
    "Y_pred_label = list(encoder.inverse_transform(Y_pred))\n",
    "\n",
    "print(\"Training set score for SVM: %f\" % final_model.score(X_train , Y_train))\n",
    "print(\"Testing  set score for SVM: %f\" % final_model.score(X_test  , Y_test ))"
   ]
  },
  {
   "cell_type": "code",
   "execution_count": 11,
   "id": "3ee80011-6046-491d-ba65-9b94d3649aa6",
   "metadata": {},
   "outputs": [
    {
     "name": "stdout",
     "output_type": "stream",
     "text": [
      "[[203   8   3  10   9  16   4   8]\n",
      " [ 12 211  16   5   8   6   2   8]\n",
      " [ 10  17 200   4   9  15   4   5]\n",
      " [  5  11  11 197   3  14   3   2]\n",
      " [  8  13   5   9 209  14   8   3]\n",
      " [  3  11   8   5   9 207   9   3]\n",
      " [ 11  15  10   8   3   8 229   3]\n",
      " [  8   4   4  10   4  14   8 210]]\n",
      "\n",
      "\n",
      "              precision    recall  f1-score   support\n",
      "\n",
      "           0       0.78      0.78      0.78       261\n",
      "           1       0.73      0.79      0.76       268\n",
      "           2       0.78      0.76      0.77       264\n",
      "           3       0.79      0.80      0.80       246\n",
      "           4       0.82      0.78      0.80       269\n",
      "           5       0.70      0.81      0.75       255\n",
      "           6       0.86      0.80      0.83       287\n",
      "           7       0.87      0.80      0.83       262\n",
      "\n",
      "    accuracy                           0.79      2112\n",
      "   macro avg       0.79      0.79      0.79      2112\n",
      "weighted avg       0.79      0.79      0.79      2112\n",
      "\n",
      "Training set score for SVM: 0.963677\n",
      "Testing  set score for SVM: 0.788826\n"
     ]
    }
   ],
   "source": [
    "# Making the Confusion Matrix\n",
    "print(confusion_matrix(Y_test,Y_pred))\n",
    "print(\"\\n\")\n",
    "print(classification_report(Y_test,Y_pred))\n",
    "\n",
    "print(\"Training set score for SVM: %f\" % final_model.score(X_train , Y_train))\n",
    "print(\"Testing  set score for SVM: %f\" % final_model.score(X_test  , Y_test ))\n"
   ]
  },
  {
   "cell_type": "code",
   "execution_count": 12,
   "id": "bd82e9da-7dfe-4c03-96f7-d1ef93d3266f",
   "metadata": {},
   "outputs": [],
   "source": [
    "import numpy as np\n",
    "import matplotlib.pyplot as plt\n",
    "\n",
    "from sklearn.metrics import confusion_matrix\n",
    "from sklearn.utils.multiclass import unique_labels\n",
    "\n",
    "\n",
    "def plot_confusion_matrix(y_true, y_pred, classes,\n",
    "                          normalize=False,\n",
    "                          title=None,\n",
    "                          cmap=plt.cm.Blues):\n",
    "    \"\"\"\n",
    "    This function prints and plots the confusion matrix.\n",
    "    Normalization can be applied by setting `normalize=True`.\n",
    "    \"\"\"\n",
    "    \n",
    "    if not title:\n",
    "        if normalize:\n",
    "            title = 'Normalized confusion matrix'\n",
    "        else:\n",
    "            title = 'Confusion matrix, without normalization'\n",
    "\n",
    "    # Compute confusion matrix\n",
    "    cm = confusion_matrix(y_true, y_pred)\n",
    "    \n",
    "    # Only use the labels that appear in the data\n",
    "    classes = unique_labels(y_true, y_pred)\n",
    "    \n",
    "    \n",
    "    if normalize:\n",
    "        cm = cm.astype('float') / cm.sum(axis=1)[:, np.newaxis]\n",
    "        print(\"Normalized confusion matrix\")\n",
    "    else:\n",
    "        print('Confusion matrix, without normalization')\n",
    "\n",
    "    print(cm)\n",
    "\n",
    "    fig, ax = plt.subplots(figsize=(10, 10))\n",
    "    im = ax.imshow(cm, interpolation='nearest', cmap=cmap)\n",
    "    ax.figure.colorbar(im, ax=ax)\n",
    "    # We want to show all ticks...\n",
    "    ax.set(xticks=np.arange(cm.shape[1]),\n",
    "           yticks=np.arange(cm.shape[0]),\n",
    "           # ... and label them with the respective list entries\n",
    "           xticklabels=classes, yticklabels=classes,\n",
    "           title=title,\n",
    "           ylabel='True label',\n",
    "           xlabel='Predicted label')\n",
    "\n",
    "    # Rotate the tick labels and set their alignment.\n",
    "    plt.setp(ax.get_xticklabels(), rotation=45, ha=\"right\",\n",
    "             rotation_mode=\"anchor\")\n",
    "\n",
    "    # Loop over data dimensions and create text annotations.\n",
    "    fmt = '.2f' if normalize else 'd'\n",
    "    thresh = cm.max() / 2.\n",
    "    for i in range(cm.shape[0]):\n",
    "        for j in range(cm.shape[1]):\n",
    "            ax.text(j, i, format(cm[i, j], fmt),\n",
    "                    ha=\"center\", va=\"center\",\n",
    "                    color=\"white\" if cm[i, j] > thresh else \"black\")\n",
    "    fig.tight_layout()\n",
    "    return ax"
   ]
  },
  {
   "cell_type": "code",
   "execution_count": 14,
   "id": "007117f7-87be-4baf-9dd2-35e6170fba4e",
   "metadata": {},
   "outputs": [
    {
     "data": {
      "image/png": "[encoded data removed]",
      "text/plain": [
       "<Figure size 1008x432 with 1 Axes>"
      ]
     },
     "metadata": {
      "needs_background": "light"
     },
     "output_type": "display_data"
    }
   ],
   "source": [
    "temp = dataframe['KATA'].value_counts()\n",
    "df = pd.DataFrame({'labels': temp.index,\n",
    "                   'values': temp.values})\n",
    "\n",
    "\n",
    "labels = df['labels']\n",
    "sizes = df['values']\n",
    "\n",
    "x_pos = [i for i, _ in enumerate(labels)]\n",
    "\n",
    "plt.figure(1, [14, 6])\n",
    "plt.bar(x_pos, sizes,width=0.6)\n",
    "plt.xticks(x_pos, labels)\n",
    "plt.show()"
   ]
  },
  {
   "cell_type": "code",
   "execution_count": 15,
   "id": "0c9e1be9-ace1-459d-ab7c-66f1f7249f67",
   "metadata": {},
   "outputs": [
    {
     "name": "stdout",
     "output_type": "stream",
     "text": [
      "Confusion matrix, without normalization\n",
      "[[203   8   3  10   9  16   4   8]\n",
      " [ 12 211  16   5   8   6   2   8]\n",
      " [ 10  17 200   4   9  15   4   5]\n",
      " [  5  11  11 197   3  14   3   2]\n",
      " [  8  13   5   9 209  14   8   3]\n",
      " [  3  11   8   5   9 207   9   3]\n",
      " [ 11  15  10   8   3   8 229   3]\n",
      " [  8   4   4  10   4  14   8 210]]\n",
      "Normalized confusion matrix\n",
      "[[0.78 0.03 0.01 0.04 0.03 0.06 0.02 0.03]\n",
      " [0.04 0.79 0.06 0.02 0.03 0.02 0.01 0.03]\n",
      " [0.04 0.06 0.76 0.02 0.03 0.06 0.02 0.02]\n",
      " [0.02 0.04 0.04 0.8  0.01 0.06 0.01 0.01]\n",
      " [0.03 0.05 0.02 0.03 0.78 0.05 0.03 0.01]\n",
      " [0.01 0.04 0.03 0.02 0.04 0.81 0.04 0.01]\n",
      " [0.04 0.05 0.03 0.03 0.01 0.03 0.8  0.01]\n",
      " [0.03 0.02 0.02 0.04 0.02 0.05 0.03 0.8 ]]\n"
     ]
    },
    {
     "data": {
      "image/png": "[encoded data removed]",
      "text/plain": [
       "<Figure size 720x720 with 2 Axes>"
      ]
     },
     "metadata": {
      "needs_background": "light"
     },
     "output_type": "display_data"
    },
    {
     "data": {
      "image/png": "[encoded data removed]",
      "text/plain": [
       "<Figure size 720x720 with 2 Axes>"
      ]
     },
     "metadata": {
      "needs_background": "light"
     },
     "output_type": "display_data"
    }
   ],
   "source": [
    "np.set_printoptions(precision=2)\n",
    "\n",
    "\n",
    "# Plot non-normalized confusion matrix\n",
    "plot_confusion_matrix(Y_test, Y_pred, classes=labels,\n",
    "                      title='Confusion matrix, without normalization')\n",
    "\n",
    "# Plot normalized confusion matrix\n",
    "plot_confusion_matrix(Y_test, Y_pred, classes=labels, normalize=True,\n",
    "                      title='Normalized confusion matrix')\n",
    "\n",
    "plt.show()"
   ]
  },
  {
   "cell_type": "code",
   "execution_count": 16,
   "id": "93c1c9d3-03f2-4af7-8e7c-56ef07e86b25",
   "metadata": {},
   "outputs": [],
   "source": [
    "from sklearn.metrics import roc_curve, auc\n",
    "from sklearn import datasets\n",
    "from sklearn.multiclass import OneVsRestClassifier\n",
    "from sklearn.svm import LinearSVC\n",
    "from sklearn.preprocessing import label_binarize\n",
    "from sklearn.model_selection import train_test_split\n",
    "import matplotlib.pyplot as plt"
   ]
  },
  {
   "cell_type": "code",
   "execution_count": 18,
   "id": "2e937d1f-b092-432b-9c15-ae2070194bd6",
   "metadata": {},
   "outputs": [
    {
     "name": "stderr",
     "output_type": "stream",
     "text": [
      "C:\\Users\\IMBA PC\\anaconda3\\lib\\site-packages\\sklearn\\svm\\_base.py:985: ConvergenceWarning: Liblinear failed to converge, increase the number of iterations.\n",
      "  warnings.warn(\"Liblinear failed to converge, increase \"\n",
      "C:\\Users\\IMBA PC\\anaconda3\\lib\\site-packages\\sklearn\\svm\\_base.py:985: ConvergenceWarning: Liblinear failed to converge, increase the number of iterations.\n",
      "  warnings.warn(\"Liblinear failed to converge, increase \"\n",
      "C:\\Users\\IMBA PC\\anaconda3\\lib\\site-packages\\sklearn\\svm\\_base.py:985: ConvergenceWarning: Liblinear failed to converge, increase the number of iterations.\n",
      "  warnings.warn(\"Liblinear failed to converge, increase \"\n",
      "C:\\Users\\IMBA PC\\anaconda3\\lib\\site-packages\\sklearn\\svm\\_base.py:985: ConvergenceWarning: Liblinear failed to converge, increase the number of iterations.\n",
      "  warnings.warn(\"Liblinear failed to converge, increase \"\n",
      "C:\\Users\\IMBA PC\\anaconda3\\lib\\site-packages\\sklearn\\svm\\_base.py:985: ConvergenceWarning: Liblinear failed to converge, increase the number of iterations.\n",
      "  warnings.warn(\"Liblinear failed to converge, increase \"\n",
      "C:\\Users\\IMBA PC\\anaconda3\\lib\\site-packages\\sklearn\\svm\\_base.py:985: ConvergenceWarning: Liblinear failed to converge, increase the number of iterations.\n",
      "  warnings.warn(\"Liblinear failed to converge, increase \"\n",
      "C:\\Users\\IMBA PC\\anaconda3\\lib\\site-packages\\sklearn\\svm\\_base.py:985: ConvergenceWarning: Liblinear failed to converge, increase the number of iterations.\n",
      "  warnings.warn(\"Liblinear failed to converge, increase \"\n",
      "C:\\Users\\IMBA PC\\anaconda3\\lib\\site-packages\\sklearn\\svm\\_base.py:985: ConvergenceWarning: Liblinear failed to converge, increase the number of iterations.\n",
      "  warnings.warn(\"Liblinear failed to converge, increase \"\n"
     ]
    },
    {
     "ename": "IndexError",
     "evalue": "too many indices for array: array is 1-dimensional, but 2 were indexed",
     "output_type": "error",
     "traceback": [
      "\u001b[1;31m---------------------------------------------------------------------------\u001b[0m",
      "\u001b[1;31mIndexError\u001b[0m                                Traceback (most recent call last)",
      "\u001b[1;32mC:\\Users\\IMBAPC~1\\AppData\\Local\\Temp/ipykernel_15716/1533825900.py\u001b[0m in \u001b[0;36m<module>\u001b[1;34m\u001b[0m\n\u001b[0;32m     14\u001b[0m \u001b[0mroc_auc\u001b[0m \u001b[1;33m=\u001b[0m \u001b[0mdict\u001b[0m\u001b[1;33m(\u001b[0m\u001b[1;33m)\u001b[0m\u001b[1;33m\u001b[0m\u001b[1;33m\u001b[0m\u001b[0m\n\u001b[0;32m     15\u001b[0m \u001b[1;32mfor\u001b[0m \u001b[0mi\u001b[0m \u001b[1;32min\u001b[0m \u001b[0mrange\u001b[0m\u001b[1;33m(\u001b[0m\u001b[0mn_classes\u001b[0m\u001b[1;33m)\u001b[0m\u001b[1;33m:\u001b[0m\u001b[1;33m\u001b[0m\u001b[1;33m\u001b[0m\u001b[0m\n\u001b[1;32m---> 16\u001b[1;33m     \u001b[0mfpr\u001b[0m\u001b[1;33m[\u001b[0m\u001b[0mi\u001b[0m\u001b[1;33m]\u001b[0m\u001b[1;33m,\u001b[0m \u001b[0mtpr\u001b[0m\u001b[1;33m[\u001b[0m\u001b[0mi\u001b[0m\u001b[1;33m]\u001b[0m\u001b[1;33m,\u001b[0m \u001b[0m_\u001b[0m \u001b[1;33m=\u001b[0m \u001b[0mroc_curve\u001b[0m\u001b[1;33m(\u001b[0m\u001b[0mY_test\u001b[0m\u001b[1;33m[\u001b[0m\u001b[1;33m:\u001b[0m\u001b[1;33m,\u001b[0m \u001b[0mi\u001b[0m\u001b[1;33m]\u001b[0m\u001b[1;33m,\u001b[0m \u001b[0mY_pred\u001b[0m\u001b[1;33m[\u001b[0m\u001b[1;33m:\u001b[0m\u001b[1;33m,\u001b[0m \u001b[0mi\u001b[0m\u001b[1;33m]\u001b[0m\u001b[1;33m)\u001b[0m\u001b[1;33m\u001b[0m\u001b[1;33m\u001b[0m\u001b[0m\n\u001b[0m\u001b[0;32m     17\u001b[0m     \u001b[0mroc_auc\u001b[0m\u001b[1;33m[\u001b[0m\u001b[0mi\u001b[0m\u001b[1;33m]\u001b[0m \u001b[1;33m=\u001b[0m \u001b[0mauc\u001b[0m\u001b[1;33m(\u001b[0m\u001b[0mfpr\u001b[0m\u001b[1;33m[\u001b[0m\u001b[0mi\u001b[0m\u001b[1;33m]\u001b[0m\u001b[1;33m,\u001b[0m \u001b[0mtpr\u001b[0m\u001b[1;33m[\u001b[0m\u001b[0mi\u001b[0m\u001b[1;33m]\u001b[0m\u001b[1;33m)\u001b[0m\u001b[1;33m\u001b[0m\u001b[1;33m\u001b[0m\u001b[0m\n\u001b[0;32m     18\u001b[0m \u001b[1;33m\u001b[0m\u001b[0m\n",
      "\u001b[1;31mIndexError\u001b[0m: too many indices for array: array is 1-dimensional, but 2 were indexed"
     ]
    }
   ],
   "source": [
    "y = label_binarize(Y_train, classes=[0,1,2,4,5,6,7])\n",
    "n_classes = 8\n",
    "\n",
    "# shuffle and split training and test sets\n",
    "x_train, x_test, y_train, y_test =\\\n",
    "    train_test_split(X_train, Y_train, test_size=0.33, random_state=0)\n",
    "# classifier\n",
    "clf = OneVsRestClassifier(LinearSVC(random_state=0))\n",
    "y_score = clf.fit(X_train, Y_train).decision_function(X_test)\n",
    "\n",
    "# Compute ROC curve and ROC area for each class\n",
    "fpr = dict()\n",
    "tpr = dict()\n",
    "roc_auc = dict()\n",
    "for i in range(n_classes):\n",
    "    fpr[i], tpr[i], _ = roc_curve(Y_test[:, i], Y_pred[:, i])\n",
    "    roc_auc[i] = auc(fpr[i], tpr[i])\n",
    "\n",
    "# Plot of a ROC curve for a specific class\n",
    "for i in range(n_classes):\n",
    "    plt.figure()\n",
    "    plt.plot(fpr[i], tpr[i], label='ROC curve (area = %0.2f)' % roc_auc[i])\n",
    "    plt.plot([0, 1], [0, 1], 'k--')\n",
    "    plt.xlim([0.0, 1.0])\n",
    "    plt.ylim([0.0, 1.05])\n",
    "    plt.xlabel('False Positive Rate')\n",
    "    plt.ylabel('True Positive Rate')\n",
    "    plt.title('Receiver operating characteristic example')\n",
    "    plt.legend(loc=\"lower right\")\n",
    "    plt.show()"
   ]
  },
  {
   "cell_type": "code",
   "execution_count": null,
   "id": "68214e98-83ee-4747-b946-f84f3137c930",
   "metadata": {},
   "outputs": [],
   "source": []
  }
 ],
 "metadata": {
  "kernelspec": {
   "display_name": "Python 3 (ipykernel)",
   "language": "python",
   "name": "python3"
  },
  "language_info": {
   "codemirror_mode": {
    "name": "ipython",
    "version": 3
   },
   "file_extension": ".py",
   "mimetype": "text/x-python",
   "name": "python",
   "nbconvert_exporter": "python",
   "pygments_lexer": "ipython3",
   "version": "3.9.7"
  }
 },
 "nbformat": 4,
 "nbformat_minor": 5
}
