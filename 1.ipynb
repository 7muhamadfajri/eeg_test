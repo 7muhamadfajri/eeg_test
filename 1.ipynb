{
 "cells": [
  {
   "cell_type": "code",
   "execution_count": 1,
   "id": "8e39cf04-63ea-4ec3-abca-a92a683b41ec",
   "metadata": {},
   "outputs": [
    {
     "name": "stdout",
     "output_type": "stream",
     "text": [
      "Collecting mne\n",
      "  Downloading mne-1.1.0-py3-none-any.whl (7.5 MB)\n",
      "Requirement already satisfied: scipy>=1.1.0 in c:\\users\\imba pc\\anaconda3\\lib\\site-packages (from mne) (1.7.1)\n",
      "Requirement already satisfied: jinja2 in c:\\users\\imba pc\\anaconda3\\lib\\site-packages (from mne) (3.1.2)\n",
      "Requirement already satisfied: numpy>=1.15.4 in c:\\users\\imba pc\\anaconda3\\lib\\site-packages (from mne) (1.20.3)\n",
      "Requirement already satisfied: decorator in c:\\users\\imba pc\\anaconda3\\lib\\site-packages (from mne) (5.1.0)\n",
      "Collecting pooch>=1.5\n",
      "  Downloading pooch-1.6.0-py3-none-any.whl (56 kB)\n",
      "Requirement already satisfied: packaging in c:\\users\\imba pc\\anaconda3\\lib\\site-packages (from mne) (21.0)\n",
      "Requirement already satisfied: matplotlib in c:\\users\\imba pc\\anaconda3\\lib\\site-packages (from mne) (3.4.3)\n",
      "Requirement already satisfied: tqdm in c:\\users\\imba pc\\anaconda3\\lib\\site-packages (from mne) (4.62.3)\n",
      "Requirement already satisfied: appdirs>=1.3.0 in c:\\users\\imba pc\\anaconda3\\lib\\site-packages (from pooch>=1.5->mne) (1.4.4)\n",
      "Requirement already satisfied: requests>=2.19.0 in c:\\users\\imba pc\\anaconda3\\lib\\site-packages (from pooch>=1.5->mne) (2.27.1)\n",
      "Requirement already satisfied: pyparsing>=2.0.2 in c:\\users\\imba pc\\anaconda3\\lib\\site-packages (from packaging->mne) (3.0.4)\n",
      "Requirement already satisfied: urllib3<1.27,>=1.21.1 in c:\\users\\imba pc\\anaconda3\\lib\\site-packages (from requests>=2.19.0->pooch>=1.5->mne) (1.26.7)\n",
      "Requirement already satisfied: charset-normalizer~=2.0.0 in c:\\users\\imba pc\\anaconda3\\lib\\site-packages (from requests>=2.19.0->pooch>=1.5->mne) (2.0.4)\n",
      "Requirement already satisfied: certifi>=2017.4.17 in c:\\users\\imba pc\\anaconda3\\lib\\site-packages (from requests>=2.19.0->pooch>=1.5->mne) (2021.10.8)\n",
      "Requirement already satisfied: idna<4,>=2.5 in c:\\users\\imba pc\\anaconda3\\lib\\site-packages (from requests>=2.19.0->pooch>=1.5->mne) (3.2)\n",
      "Requirement already satisfied: MarkupSafe>=2.0 in c:\\users\\imba pc\\anaconda3\\lib\\site-packages (from jinja2->mne) (2.1.1)\n",
      "Requirement already satisfied: cycler>=0.10 in c:\\users\\imba pc\\anaconda3\\lib\\site-packages (from matplotlib->mne) (0.10.0)\n",
      "Requirement already satisfied: pillow>=6.2.0 in c:\\users\\imba pc\\anaconda3\\lib\\site-packages (from matplotlib->mne) (8.4.0)\n",
      "Requirement already satisfied: python-dateutil>=2.7 in c:\\users\\imba pc\\anaconda3\\lib\\site-packages (from matplotlib->mne) (2.8.2)\n",
      "Requirement already satisfied: kiwisolver>=1.0.1 in c:\\users\\imba pc\\anaconda3\\lib\\site-packages (from matplotlib->mne) (1.3.1)\n",
      "Requirement already satisfied: six in c:\\users\\imba pc\\anaconda3\\lib\\site-packages (from cycler>=0.10->matplotlib->mne) (1.16.0)\n",
      "Requirement already satisfied: colorama in c:\\users\\imba pc\\anaconda3\\lib\\site-packages (from tqdm->mne) (0.4.4)\n",
      "Installing collected packages: pooch, mne\n",
      "Successfully installed mne-1.1.0 pooch-1.6.0\n",
      "Note: you may need to restart the kernel to use updated packages.\n"
     ]
    }
   ],
   "source": [
    "pip install mne"
   ]
  },
  {
   "cell_type": "code",
   "execution_count": 8,
   "id": "2ebb3365-9f70-4c83-b27b-b710de7f891f",
   "metadata": {},
   "outputs": [],
   "source": [
    "import mne # MNE library for EEG analysis\n",
    "import matplotlib.pyplot as plt # Plotting library\n",
    "\n",
    "plt.style.use('seaborn-bright') # Plot Style\n",
    "plt.rcParams['figure.dpi'] = 300 # DPI setting\n",
    "plt.rcParams['figure.figsize'] = (8, 6)\n"
   ]
  },
  {
   "cell_type": "code",
   "execution_count": 9,
   "id": "9c4a76d3-f536-487c-b860-ff49c7b113c3",
   "metadata": {},
   "outputs": [
    {
     "name": "stdout",
     "output_type": "stream",
     "text": [
      "Extracting EDF parameters from C:\\Users\\IMBA PC\\S01-1Aj_2019.09.25_17.04.21.edf...\n",
      "EDF file detected\n",
      "Setting channel info structure...\n",
      "Creating raw.info structure...\n",
      "Reading 0 ... 11007  =      0.000 ...    85.992 secs...\n"
     ]
    }
   ],
   "source": [
    "# Data import\n",
    "raw_h = mne.io.read_raw_edf(\"S01-1Aj_2019.09.25_17.04.21.edf\", preload=True)# Import data file into workspace"
   ]
  },
  {
   "cell_type": "code",
   "execution_count": 10,
   "id": "8005bfe9-80e1-4c68-83bf-9f03a66d0cc0",
   "metadata": {},
   "outputs": [
    {
     "name": "stdout",
     "output_type": "stream",
     "text": [
      "sample rate: 128.0 Hz\n"
     ]
    }
   ],
   "source": [
    "print('sample rate:', raw_h.info['sfreq'], 'Hz')"
   ]
  },
  {
   "cell_type": "code",
   "execution_count": 11,
   "id": "aa89eb92-a454-4586-8a67-b7098fbee293",
   "metadata": {},
   "outputs": [
    {
     "name": "stdout",
     "output_type": "stream",
     "text": [
      "Data matrix size : 40 channels x 11008 samples\n"
     ]
    }
   ],
   "source": [
    "print('Data matrix size : %s channels x %s samples' % (raw_h.info['nchan'], len(raw_h.times)))"
   ]
  },
  {
   "cell_type": "code",
   "execution_count": 12,
   "id": "86c04001-00cd-45c7-bfe2-f55d70dc40d1",
   "metadata": {},
   "outputs": [
    {
     "name": "stdout",
     "output_type": "stream",
     "text": [
      "Channel names: ['COUNTER', 'INTERPOLATED', 'AF3', 'F7', 'F3', 'FC5', 'T7', 'P7', 'O1', 'O2', 'P8', 'T8', 'FC6', 'F4', 'F8', 'AF4', 'RAW_CQ', 'GYROX', 'GYROY', 'MARKER', 'MARKER_HARDWARE', 'SYNC', 'TIME_STAMP_s', 'TIME_STAMP_ms', 'CQ_AF3', 'CQ_F7', 'CQ_F3', 'CQ_FC5', 'CQ_T7', 'CQ_P7', 'CQ_O1', 'CQ_O2', 'CQ_P8', 'CQ_T8', 'CQ_FC6', 'CQ_F4', 'CQ_F8', 'CQ_AF4', 'CQ_CMS', 'CQ_DRL']\n"
     ]
    }
   ],
   "source": [
    "print('Channel names:', raw_h.info['ch_names'])"
   ]
  },
  {
   "cell_type": "code",
   "execution_count": null,
   "id": "7ef943cc-45a5-469c-ae08-0e92dd45ee4d",
   "metadata": {},
   "outputs": [],
   "source": []
  }
 ],
 "metadata": {
  "kernelspec": {
   "display_name": "Python 3 (ipykernel)",
   "language": "python",
   "name": "python3"
  },
  "language_info": {
   "codemirror_mode": {
    "name": "ipython",
    "version": 3
   },
   "file_extension": ".py",
   "mimetype": "text/x-python",
   "name": "python",
   "nbconvert_exporter": "python",
   "pygments_lexer": "ipython3",
   "version": "3.9.7"
  }
 },
 "nbformat": 4,
 "nbformat_minor": 5
}
